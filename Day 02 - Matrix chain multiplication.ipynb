{
 "cells": [
  {
   "cell_type": "markdown",
   "metadata": {
    "collapsed": true
   },
   "source": [
    "# Definition(s)"
   ]
  },
  {
   "cell_type": "markdown",
   "metadata": {},
   "source": [
    "Given a sequence of matrices, the goal is to find the most efficient way to multiply these matrices. \n",
    "\n",
    "The problem is not actually to perform the multiplications, but merely to decide the sequence of the matrix multiplications involved (matrix multiplication is associative)."
   ]
  },
  {
   "cell_type": "markdown",
   "metadata": {},
   "source": [
    "# Algorithm(s)"
   ]
  },
  {
   "cell_type": "code",
   "execution_count": 5,
   "metadata": {},
   "outputs": [],
   "source": [
    "import numpy as np  # for infinity"
   ]
  },
  {
   "cell_type": "code",
   "execution_count": 6,
   "metadata": {
    "collapsed": true
   },
   "outputs": [],
   "source": [
    "def compute(matrices):\n",
    "    n = len(matrices)  # number of matrices in the chain\n",
    "\n",
    "    # dp[i, j] = order of multiplication, nr rows, nr cols, cost of mult of subchain [i..j]\n",
    "    dp = {(i, i): matrices[i] + (0,) for i in range(n)}  # a subchain of only one matrix has cost 0\n",
    "\n",
    "    # length of subchain\n",
    "    for i in range(1, n):\n",
    "        # starting index of subchain\n",
    "        for j in range(0, n - i):\n",
    "            best = np.inf  # inf (can be any value that is large enough)\n",
    "\n",
    "            # splitting point of subchain [j, j + i]\n",
    "            for k in range(j, j + i):\n",
    "                lname, lrows, lcols, lcost = dp[j, k]\n",
    "                rname, rrows, rcols, rcost = dp[k + 1, j + i]\n",
    "\n",
    "                assert lcols == rrows\n",
    "                # multiply subchains at splitting point\n",
    "                cost = lcost + rcost + lrows * lcols * rcols\n",
    "\n",
    "                if cost < best:\n",
    "                    best = cost\n",
    "                    dp[j, j + i] = \"(\" + lname + rname + \")\", lrows, rcols, cost\n",
    "\n",
    "    return dict(zip([\"order\", \"rows\", \"cols\", \"cost\"], dp[0, n - 1]))"
   ]
  },
  {
   "cell_type": "markdown",
   "metadata": {},
   "source": [
    "# Run(s)"
   ]
  },
  {
   "cell_type": "code",
   "execution_count": 7,
   "metadata": {},
   "outputs": [
    {
     "name": "stdout",
     "output_type": "stream",
     "text": [
      "{'order': '((AB)C)', 'rows': 10, 'cols': 40, 'cost': 18000}\n"
     ]
    }
   ],
   "source": [
    "print(compute([('A', 10, 20), ('B', 20, 30), ('C', 30, 40)]))"
   ]
  },
  {
   "cell_type": "code",
   "execution_count": 8,
   "metadata": {},
   "outputs": [
    {
     "name": "stdout",
     "output_type": "stream",
     "text": [
      "{'order': '((A(BC))D)', 'rows': 13, 'cols': 34, 'cost': 2856}\n"
     ]
    }
   ],
   "source": [
    "print(compute([('A', 13, 5), ('B', 5, 89), ('C', 89, 3), ('D', 3, 34)]))"
   ]
  },
  {
   "cell_type": "code",
   "execution_count": 9,
   "metadata": {},
   "outputs": [
    {
     "name": "stdout",
     "output_type": "stream",
     "text": [
      "{'order': '(A((((BC)D)E)F))', 'rows': 12, 'cols': 90, 'cost': 2062600}\n"
     ]
    }
   ],
   "source": [
    "print(compute([('A', 12, 2), ('B', 2, 82), ('C', 82, 3100), ('D', 3100, 250), ('E', 250, 3), ('F', 3, 90)]))"
   ]
  }
 ],
 "metadata": {
  "kernelspec": {
   "display_name": "Python 3",
   "language": "python",
   "name": "python3"
  },
  "language_info": {
   "codemirror_mode": {
    "name": "ipython",
    "version": 3
   },
   "file_extension": ".py",
   "mimetype": "text/x-python",
   "name": "python",
   "nbconvert_exporter": "python",
   "pygments_lexer": "ipython3",
   "version": "3.6.1"
  }
 },
 "nbformat": 4,
 "nbformat_minor": 2
}
