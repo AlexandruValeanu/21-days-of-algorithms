{
 "cells": [
  {
   "cell_type": "markdown",
   "metadata": {},
   "source": [
    "# Definition(s)"
   ]
  },
  {
   "cell_type": "markdown",
   "metadata": {},
   "source": [
    "Pollard's rho algorithm is an algorithm for integer factorization. It was invented by John Pollard in 1975. It uses only a small amount of space, and its expected running time is proportional to the square root of the size of the smallest prime factor of the composite number being factorized.\n",
    "\n",
    "For an awesome tutorial check [this](https://www.cs.colorado.edu/~srirams/courses/csci2824-spr14/pollardsRho.html).\n",
    "\n",
    "Pollard's Rho Algorithm Scheme\n",
    "\n",
    "~~~\n",
    "a, b = 2, 2;\n",
    "\n",
    "while ( b != a ){\n",
    "   a = f(a);     // a runs once\n",
    "   b = f(f(b));  // b runs twice as fast\n",
    "   p = GCD(| b - a |, N);\n",
    "   \n",
    "   if ( p > 1)\n",
    "       return \"Factor: p\";\n",
    "}\n",
    "\n",
    "return \"Failure\"\n",
    "~~~"
   ]
  },
  {
   "cell_type": "markdown",
   "metadata": {},
   "source": [
    "# Algorithm(s)"
   ]
  },
  {
   "cell_type": "code",
   "execution_count": 21,
   "metadata": {
    "collapsed": true
   },
   "outputs": [],
   "source": [
    "from math import gcd\n",
    "from sympy.ntheory import isprime  # primality test\n",
    "import random"
   ]
  },
  {
   "cell_type": "code",
   "execution_count": 22,
   "metadata": {
    "collapsed": true
   },
   "outputs": [],
   "source": [
    "def pollards_rho(n, seed=2, f=lambda x: x ** 2 + 1):\n",
    "    if n % 2 == 0:\n",
    "        return 2\n",
    "\n",
    "    a, b, d = seed, seed, 1\n",
    "    while d == 1:\n",
    "        a = f(a) % n\n",
    "        b = f(f(b) % n) % n\n",
    "        d = gcd(a - b, n)\n",
    "\n",
    "    return None if d == n else d"
   ]
  },
  {
   "cell_type": "code",
   "execution_count": 32,
   "metadata": {
    "collapsed": true
   },
   "outputs": [],
   "source": [
    "def impl_factor(n):\n",
    "    if n < 2:\n",
    "        return []\n",
    "\n",
    "    if isprime(n):\n",
    "        return [n]\n",
    "\n",
    "    f = pollards_rho(n)\n",
    "    while f is None:\n",
    "        a = random.randrange(2, 10 ** 6)\n",
    "        b = random.randrange(2, 10 ** 6)\n",
    "        f = pollards_rho(n, seed=b, f=lambda x: x ** 2 + a)\n",
    "\n",
    "    tmp, factors = impl_factor(f), []\n",
    "    while n % f == 0:\n",
    "        factors += tmp\n",
    "        n = n // f\n",
    "\n",
    "    return factors + impl_factor(n)\n",
    "\n",
    "def factor(n):\n",
    "    fact = impl_factor(n)\n",
    "    fact.sort()\n",
    "    return fact"
   ]
  },
  {
   "cell_type": "markdown",
   "metadata": {},
   "source": [
    "# Run(s)"
   ]
  },
  {
   "cell_type": "code",
   "execution_count": 33,
   "metadata": {},
   "outputs": [
    {
     "data": {
      "text/plain": [
       "[2, 2, 5, 5]"
      ]
     },
     "execution_count": 33,
     "metadata": {},
     "output_type": "execute_result"
    }
   ],
   "source": [
    "factor(100)"
   ]
  },
  {
   "cell_type": "code",
   "execution_count": 34,
   "metadata": {},
   "outputs": [
    {
     "data": {
      "text/plain": [
       "[3, 773, 1973, 7022629]"
      ]
     },
     "execution_count": 34,
     "metadata": {},
     "output_type": "execute_result"
    }
   ],
   "source": [
    "factor(32131245432423)"
   ]
  },
  {
   "cell_type": "code",
   "execution_count": 35,
   "metadata": {},
   "outputs": [
    {
     "data": {
      "text/plain": [
       "[2, 2, 2, 2, 2, 3, 3, 3, 3, 3, 3, 3, 3, 3, 3, 5, 7, 7]"
      ]
     },
     "execution_count": 35,
     "metadata": {},
     "output_type": "execute_result"
    }
   ],
   "source": [
    "factor(2 ** 5 * 3 ** 10 * 5 * 7 ** 2)"
   ]
  },
  {
   "cell_type": "code",
   "execution_count": 39,
   "metadata": {},
   "outputs": [
    {
     "data": {
      "text/plain": [
       "[2, 2, 2, 2, 2, 3, 3, 7187077, 102963601763837]"
      ]
     },
     "execution_count": 39,
     "metadata": {},
     "output_type": "execute_result"
    }
   ],
   "source": [
    "factor(213122112213321312321312)"
   ]
  },
  {
   "cell_type": "code",
   "execution_count": 40,
   "metadata": {},
   "outputs": [
    {
     "data": {
      "text/plain": [
       "[2, 2, 2, 11743, 1430357, 4225862227183602989314916784386129]"
      ]
     },
     "execution_count": 40,
     "metadata": {},
     "output_type": "execute_result"
    }
   ],
   "source": [
    "factor(567843720532049232390851243214723895239171032)"
   ]
  }
 ],
 "metadata": {
  "kernelspec": {
   "display_name": "Python 3",
   "language": "python",
   "name": "python3"
  },
  "language_info": {
   "codemirror_mode": {
    "name": "ipython",
    "version": 3
   },
   "file_extension": ".py",
   "mimetype": "text/x-python",
   "name": "python",
   "nbconvert_exporter": "python",
   "pygments_lexer": "ipython3",
   "version": "3.6.1"
  }
 },
 "nbformat": 4,
 "nbformat_minor": 2
}
