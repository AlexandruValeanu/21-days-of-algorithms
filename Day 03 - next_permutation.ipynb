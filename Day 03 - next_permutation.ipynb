{
 "cells": [
  {
   "cell_type": "markdown",
   "metadata": {},
   "source": [
    "# Definition(s)"
   ]
  },
  {
   "cell_type": "markdown",
   "metadata": {},
   "source": [
    "Description of the algorithm for next_permutation:\n",
    "\n",
    "Find largest index i such that array[i − 1] < array[i].\n",
    "(If no such i exists, then this is already the last permutation.)\n",
    "\n",
    "Find largest index j such that j ≥ i and array[j] > array[i − 1].\n",
    "\n",
    "Swap array[j] and array[i − 1].\n",
    "\n",
    "Reverse the suffix starting at array[i]."
   ]
  },
  {
   "cell_type": "markdown",
   "metadata": {},
   "source": [
    "# Algortihm(s)"
   ]
  },
  {
   "cell_type": "code",
   "execution_count": 1,
   "metadata": {
    "collapsed": true
   },
   "outputs": [],
   "source": [
    "def next_permutation(perm):\n",
    "    n = len(perm)\n",
    "\n",
    "    # Find longest non-increasing suffix\n",
    "    i = n - 1\n",
    "    while i > 0 and perm[i - 1] >= perm[i]:\n",
    "        i -= 1\n",
    "\n",
    "    # Is this the last permutation?\n",
    "    if i <= 0:\n",
    "        return False\n",
    "\n",
    "    # perm[i - 1] is the pivot\n",
    "    # search for the rightmost j such that perm[j] > perm[i - 1]\n",
    "    j = n - 1\n",
    "    while perm[j] <= perm[i - 1]:\n",
    "        j -= 1\n",
    "\n",
    "    assert j >= i\n",
    "\n",
    "    # perm[j] will become the new pivot (swap perm[i-1] and perm[j])\n",
    "    perm[i - 1], perm[j] = perm[j], perm[i - 1]\n",
    "\n",
    "    # reverse the suffix perm[i..j]\n",
    "    perm[i:j+1] = perm[i:j+1][::-1]\n",
    "\n",
    "    return True\n",
    "\n",
    "# generator for all permutations\n",
    "def permutations(perm):\n",
    "    is_next = True\n",
    "\n",
    "    while is_next:\n",
    "        yield perm\n",
    "        is_next = next_permutation(perm)"
   ]
  },
  {
   "cell_type": "markdown",
   "metadata": {},
   "source": [
    "# Run(s)"
   ]
  },
  {
   "cell_type": "code",
   "execution_count": 3,
   "metadata": {},
   "outputs": [
    {
     "name": "stdout",
     "output_type": "stream",
     "text": [
      "True [1, 3, 4, 2]\n"
     ]
    }
   ],
   "source": [
    "p = [1, 3, 2, 4]\n",
    "print(next_permutation(p), p)"
   ]
  },
  {
   "cell_type": "code",
   "execution_count": 4,
   "metadata": {},
   "outputs": [
    {
     "name": "stdout",
     "output_type": "stream",
     "text": [
      "True [2, 4, 3, 7, 6, 9, 8, 5, 1, 0]\n"
     ]
    }
   ],
   "source": [
    "p = [2, 4, 3, 7, 6, 8, 9, 5, 1, 0]\n",
    "print(next_permutation(p), p)"
   ]
  },
  {
   "cell_type": "code",
   "execution_count": 5,
   "metadata": {},
   "outputs": [
    {
     "name": "stdout",
     "output_type": "stream",
     "text": [
      "[0, 1, 2, 3]\n",
      "[0, 1, 3, 2]\n",
      "[0, 2, 1, 3]\n",
      "[0, 2, 3, 1]\n",
      "[0, 3, 2, 1]\n",
      "[1, 0, 2, 3]\n",
      "[1, 0, 3, 2]\n",
      "[1, 2, 0, 3]\n",
      "[1, 2, 3, 0]\n",
      "[1, 3, 2, 0]\n",
      "[2, 1, 3, 0]\n",
      "[2, 3, 1, 0]\n",
      "[3, 2, 1, 0]\n"
     ]
    }
   ],
   "source": [
    "for p in permutations(list(range(4))):\n",
    "    print(p)"
   ]
  },
  {
   "cell_type": "code",
   "execution_count": 6,
   "metadata": {},
   "outputs": [
    {
     "name": "stdout",
     "output_type": "stream",
     "text": [
      "True ['a', 'l', 'x', 'e']\n"
     ]
    }
   ],
   "source": [
    "p = ['a', 'l', 'e', 'x']\n",
    "print(next_permutation(p), p)"
   ]
  }
 ],
 "metadata": {
  "kernelspec": {
   "display_name": "Python 3",
   "language": "python",
   "name": "python3"
  },
  "language_info": {
   "codemirror_mode": {
    "name": "ipython",
    "version": 3
   },
   "file_extension": ".py",
   "mimetype": "text/x-python",
   "name": "python",
   "nbconvert_exporter": "python",
   "pygments_lexer": "ipython3",
   "version": "3.6.1"
  }
 },
 "nbformat": 4,
 "nbformat_minor": 2
}
