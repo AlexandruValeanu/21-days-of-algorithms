{
 "cells": [
  {
   "cell_type": "markdown",
   "metadata": {},
   "source": [
    "# Definition(s)\n",
    "\n",
    "The stable marriage problem is the problem of finding a stable matching between two equally sized sets of elements given an ordering of preferences for each element. A matching is a mapping from the elements of one set to the elements of the other set. \n",
    "\n",
    "A matching is not stable if:\n",
    "* There is an element A of the first matched set which prefers some given element B of the second matched set over the element to which A is already matched, and\n",
    "* B also prefers A over the element to which B is already matched.\n",
    "\n",
    "In other words, a matching is stable when there does not exist any match (A, B) by which both A and B would be individually better off than they are with the element to which they are currently matched."
   ]
  },
  {
   "cell_type": "markdown",
   "metadata": {},
   "source": [
    "# Algorithm(s)"
   ]
  },
  {
   "cell_type": "code",
   "execution_count": 1,
   "metadata": {
    "collapsed": true
   },
   "outputs": [],
   "source": [
    "from collections import deque, defaultdict"
   ]
  },
  {
   "cell_type": "code",
   "execution_count": 17,
   "metadata": {},
   "outputs": [],
   "source": [
    "def gale_shapley(men, women):\n",
    "    free_men = deque(men)\n",
    "    marriages = defaultdict(lambda: None)\n",
    "    \n",
    "    preferences = dict()\n",
    "    for jane in women:\n",
    "        for i, john in enumerate(women[jane]):\n",
    "            preferences[(jane, john)] = i\n",
    "    \n",
    "    while free_men:\n",
    "        john = free_men.popleft()\n",
    "        \n",
    "        for jane in men[john]:\n",
    "            fiance = marriages[jane]\n",
    "            \n",
    "            if fiance is None or preferences[(jane, john)] < preferences[(jane, fiance)]:\n",
    "                marriages[jane] = john\n",
    "                \n",
    "                if fiance is not None:\n",
    "                    free_men.append(fiance)\n",
    "                break\n",
    "                    \n",
    "    return list(sorted((m, w) for w, m in marriages.items()))"
   ]
  },
  {
   "cell_type": "markdown",
   "metadata": {},
   "source": [
    "# Run(s)"
   ]
  },
  {
   "cell_type": "code",
   "execution_count": 18,
   "metadata": {},
   "outputs": [
    {
     "data": {
      "text/plain": [
       "[('adam', 'claire'), ('bob', 'diana')]"
      ]
     },
     "execution_count": 18,
     "metadata": {},
     "output_type": "execute_result"
    }
   ],
   "source": [
    "men = {\n",
    "    'adam': ['claire', 'diana'],\n",
    "    'bob': ['diana', 'claire']\n",
    "}\n",
    "\n",
    "women = {\n",
    "    'claire': ['bob', 'adam'],\n",
    "    'diana': ['adam', 'bob']\n",
    "}\n",
    "\n",
    "gale_shapley(men, women)"
   ]
  },
  {
   "cell_type": "code",
   "execution_count": 19,
   "metadata": {},
   "outputs": [
    {
     "data": {
      "text/plain": [
       "[(1, 4), (2, 3), (3, 2), (4, 1)]"
      ]
     },
     "execution_count": 19,
     "metadata": {},
     "output_type": "execute_result"
    }
   ],
   "source": [
    "men = {\n",
    "    1: [2, 4, 1, 3],\n",
    "    2: [3, 1, 4, 2],\n",
    "    3: [2, 3, 1, 4],\n",
    "    4: [4, 1, 3, 2]\n",
    "}\n",
    "\n",
    "women = {\n",
    "    1: [2, 1, 4, 3],\n",
    "    2: [4, 3, 1, 2],\n",
    "    3: [1, 4, 3, 2],\n",
    "    4: [2, 1, 4, 3]\n",
    "}\n",
    "\n",
    "gale_shapley(men, women)"
   ]
  },
  {
   "cell_type": "code",
   "execution_count": 20,
   "metadata": {},
   "outputs": [
    {
     "data": {
      "text/plain": [
       "[('adam', 'diana'), ('bob', 'claire'), ('charlie', 'betty')]"
      ]
     },
     "execution_count": 20,
     "metadata": {},
     "output_type": "execute_result"
    }
   ],
   "source": [
    "men = {\n",
    "    'adam': ['betty', 'claire', 'diana'],\n",
    "    'bob': ['betty', 'claire', 'diana'],\n",
    "    'charlie': ['betty', 'claire', 'diana']\n",
    "}\n",
    "\n",
    "women = {\n",
    "    'betty': ['charlie', 'bob', 'adam'],\n",
    "    'claire': ['charlie', 'bob', 'adam'],\n",
    "    'diana': ['charlie', 'bob', 'adam']\n",
    "}\n",
    "\n",
    "gale_shapley(men, women)"
   ]
  },
  {
   "cell_type": "code",
   "execution_count": 21,
   "metadata": {},
   "outputs": [
    {
     "data": {
      "text/plain": [
       "[('alex', 'alice'), ('ben', 'christina'), ('charlie', 'beatrice')]"
      ]
     },
     "execution_count": 21,
     "metadata": {},
     "output_type": "execute_result"
    }
   ],
   "source": [
    "men = {\n",
    "    'alex': ['alice', 'beatrice', 'christina'],\n",
    "    'ben': ['beatrice', 'alice', 'christina'],\n",
    "    'charlie': ['beatrice', 'christina', 'alice']\n",
    "}\n",
    "\n",
    "women = {\n",
    "    'alice': ['alex', 'charlie', 'ben'],\n",
    "    'beatrice': ['charlie', 'alex', 'ben'],\n",
    "    'charlie': ['alex', 'charlie', 'ben']\n",
    "}\n",
    "\n",
    "gale_shapley(men, women)"
   ]
  }
 ],
 "metadata": {
  "kernelspec": {
   "display_name": "Python 3",
   "language": "python",
   "name": "python3"
  },
  "language_info": {
   "codemirror_mode": {
    "name": "ipython",
    "version": 3
   },
   "file_extension": ".py",
   "mimetype": "text/x-python",
   "name": "python",
   "nbconvert_exporter": "python",
   "pygments_lexer": "ipython3",
   "version": "3.6.1"
  }
 },
 "nbformat": 4,
 "nbformat_minor": 2
}
