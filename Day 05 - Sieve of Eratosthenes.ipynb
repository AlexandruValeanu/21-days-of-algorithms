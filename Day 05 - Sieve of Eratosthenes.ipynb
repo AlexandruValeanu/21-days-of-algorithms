{
 "cells": [
  {
   "cell_type": "markdown",
   "metadata": {},
   "source": [
    "# Definition(s)"
   ]
  },
  {
   "cell_type": "markdown",
   "metadata": {},
   "source": [
    "The sieve of Eratosthenes can be expressed in pseudocode, as follows:\n",
    "~~~\n",
    " Input: an integer n > 1.\n",
    " \n",
    " Let A be an array of Boolean values, indexed by integers 2 to n,\n",
    " initially all set to true.\n",
    " \n",
    " for i = 2, 3, 4, ..., not exceeding √n:\n",
    "   if A[i] is true:\n",
    "     for j = i2, i2+i, i2+2i, i2+3i, ..., not exceeding n:\n",
    "       A[j] := false.\n",
    " \n",
    " Output: all i such that A[i] is true.\n",
    " ~~~"
   ]
  },
  {
   "cell_type": "markdown",
   "metadata": {},
   "source": [
    "# Algorithm(s)"
   ]
  },
  {
   "cell_type": "code",
   "execution_count": 1,
   "metadata": {
    "collapsed": true
   },
   "outputs": [],
   "source": [
    "import numpy as np"
   ]
  },
  {
   "cell_type": "code",
   "execution_count": 24,
   "metadata": {
    "collapsed": true
   },
   "outputs": [],
   "source": [
    "def sieve(n):\n",
    "    assert n > 1\n",
    "    A = np.ones(n + 1, dtype=np.int8)\n",
    "    A[0] = A[1] = 0\n",
    "    \n",
    "    i = 2\n",
    "    while i * i <= n:\n",
    "        A[i * i::i] = 0\n",
    "        i += 1\n",
    "    \n",
    "    return A"
   ]
  },
  {
   "cell_type": "code",
   "execution_count": 18,
   "metadata": {
    "collapsed": true
   },
   "outputs": [],
   "source": [
    "def primes(n):\n",
    "    sv = sieve(n)\n",
    "    return [x for x in range(n + 1) if sv[x]]\n",
    "\n",
    "def is_prime(n):\n",
    "    return sieve(n)[n]"
   ]
  },
  {
   "cell_type": "markdown",
   "metadata": {},
   "source": [
    "# Run(s)"
   ]
  },
  {
   "cell_type": "code",
   "execution_count": 25,
   "metadata": {},
   "outputs": [
    {
     "name": "stdout",
     "output_type": "stream",
     "text": [
      "There are 25 primes less than 100\n"
     ]
    }
   ],
   "source": [
    "n = 100\n",
    "print(\"There are {0} primes less than {1}\".format(sieve(n).sum(), n))"
   ]
  },
  {
   "cell_type": "code",
   "execution_count": 32,
   "metadata": {},
   "outputs": [
    {
     "name": "stdout",
     "output_type": "stream",
     "text": [
      "There are 78498 primes less than 1000000\n"
     ]
    }
   ],
   "source": [
    "n = 10 ** 6\n",
    "print(\"There are {0} primes less than {1}\".format(sieve(n).sum(), n))"
   ]
  },
  {
   "cell_type": "code",
   "execution_count": 26,
   "metadata": {},
   "outputs": [
    {
     "name": "stdout",
     "output_type": "stream",
     "text": [
      "There are 5761455 primes less than 100000000\n"
     ]
    }
   ],
   "source": [
    "n = 10 ** 8\n",
    "print(\"There are {0} primes less than {1}\".format(sieve(n).sum(), n))"
   ]
  },
  {
   "cell_type": "code",
   "execution_count": 30,
   "metadata": {},
   "outputs": [
    {
     "name": "stdout",
     "output_type": "stream",
     "text": [
      "There are 50847534 primes less than 1000000000\n"
     ]
    }
   ],
   "source": [
    "n = 10 ** 9\n",
    "print(\"There are {0} primes less than {1}\".format(sieve(n).sum(), n))"
   ]
  },
  {
   "cell_type": "code",
   "execution_count": 27,
   "metadata": {},
   "outputs": [
    {
     "name": "stdout",
     "output_type": "stream",
     "text": [
      "[2, 3, 5, 7, 11, 13, 17, 19, 23, 29, 31, 37, 41, 43, 47, 53, 59, 61, 67, 71, 73, 79, 83, 89, 97]\n"
     ]
    }
   ],
   "source": [
    "print(primes(100))"
   ]
  },
  {
   "cell_type": "code",
   "execution_count": 29,
   "metadata": {},
   "outputs": [
    {
     "name": "stdout",
     "output_type": "stream",
     "text": [
      "0\n",
      "1\n"
     ]
    }
   ],
   "source": [
    "print(is_prime(100))\n",
    "print(is_prime(2853791))"
   ]
  }
 ],
 "metadata": {
  "kernelspec": {
   "display_name": "Python 3",
   "language": "python",
   "name": "python3"
  },
  "language_info": {
   "codemirror_mode": {
    "name": "ipython",
    "version": 3
   },
   "file_extension": ".py",
   "mimetype": "text/x-python",
   "name": "python",
   "nbconvert_exporter": "python",
   "pygments_lexer": "ipython3",
   "version": "3.6.1"
  }
 },
 "nbformat": 4,
 "nbformat_minor": 2
}
