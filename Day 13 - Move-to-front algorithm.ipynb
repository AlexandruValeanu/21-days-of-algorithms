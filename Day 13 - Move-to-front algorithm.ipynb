{
 "cells": [
  {
   "cell_type": "markdown",
   "metadata": {},
   "source": [
    "# Definition(s)\n",
    "\n",
    "Given a symbol table of a zero-indexed array of all possible input symbols this algorithm reversibly transforms a sequence of input symbols into an array of output numbers (indices).\n",
    "\n",
    "The transform in many cases acts to give frequently repeated input symbols lower indices which is useful in some compression algorithms.\n",
    "\n",
    "~~~\n",
    "Encoding algorithm\n",
    "    for each symbol of the input sequence:\n",
    "        output the index of the symbol in the symbol table\n",
    "        move that symbol to the front of the symbol table\n",
    "~~~\n",
    "\n",
    "~~~\n",
    "Decoding algorithm\n",
    "    # Using the same starting symbol table\n",
    "    for each index of the input sequence:\n",
    "        output the symbol at that index of the symbol table\n",
    "        move that symbol to the front of the symbol table\n",
    "~~~\n",
    "\n",
    "Taken from http://rosettacode.org"
   ]
  },
  {
   "cell_type": "markdown",
   "metadata": {},
   "source": [
    "# Algorithm(s)"
   ]
  },
  {
   "cell_type": "code",
   "execution_count": 8,
   "metadata": {
    "collapsed": true
   },
   "outputs": [],
   "source": [
    "import string\n",
    "import copy\n",
    "\n",
    "SYMBOL_TABLE = list(string.ascii_lowercase)"
   ]
  },
  {
   "cell_type": "code",
   "execution_count": 9,
   "metadata": {
    "collapsed": true
   },
   "outputs": [],
   "source": [
    "def move2front_encode(text, symboltable):\n",
    "    encoded_text, symbol_table = [], copy.deepcopy(symboltable)\n",
    "    \n",
    "    for e in text:\n",
    "        ind = symbol_table.index(e)\n",
    "        encoded_text.append(ind)\n",
    "        symbol_table.pop(ind)\n",
    "        symbol_table.insert(0, e)\n",
    "        \n",
    "    return encoded_text"
   ]
  },
  {
   "cell_type": "code",
   "execution_count": 10,
   "metadata": {
    "collapsed": true
   },
   "outputs": [],
   "source": [
    "def move2front_decode(text, symboltable):\n",
    "    decoded_text, symbol_table = [], copy.deepcopy(symboltable)\n",
    "    \n",
    "    for ind in text:\n",
    "        ch = symbol_table[ind]\n",
    "        symbol_table.pop(ind)\n",
    "        symbol_table.insert(0, ch)\n",
    "        decoded_text.append(ch)\n",
    "        \n",
    "    return ''.join(decoded_text)"
   ]
  },
  {
   "cell_type": "markdown",
   "metadata": {},
   "source": [
    "# Run(s)"
   ]
  },
  {
   "cell_type": "code",
   "execution_count": 11,
   "metadata": {},
   "outputs": [
    {
     "name": "stdout",
     "output_type": "stream",
     "text": [
      "[1, 1, 13, 1, 1, 1, 0, 0]\n"
     ]
    }
   ],
   "source": [
    "print(move2front_encode('bananaaa', SYMBOL_TABLE))"
   ]
  },
  {
   "cell_type": "code",
   "execution_count": 12,
   "metadata": {},
   "outputs": [
    {
     "name": "stdout",
     "output_type": "stream",
     "text": [
      "bananaaa\n"
     ]
    }
   ],
   "source": [
    "print(move2front_decode([1, 1, 13, 1, 1, 1, 0, 0], SYMBOL_TABLE))"
   ]
  },
  {
   "cell_type": "code",
   "execution_count": 13,
   "metadata": {},
   "outputs": [
    {
     "name": "stdout",
     "output_type": "stream",
     "text": [
      "[1, 17, 15, 0, 0, 5]\n"
     ]
    }
   ],
   "source": [
    "print(move2front_encode('broood', SYMBOL_TABLE))"
   ]
  },
  {
   "cell_type": "code",
   "execution_count": 14,
   "metadata": {},
   "outputs": [
    {
     "name": "stdout",
     "output_type": "stream",
     "text": [
      "broood\n"
     ]
    }
   ],
   "source": [
    "print(move2front_decode([1, 17, 15, 0, 0, 5], SYMBOL_TABLE))"
   ]
  }
 ],
 "metadata": {
  "kernelspec": {
   "display_name": "Python 3",
   "language": "python",
   "name": "python3"
  },
  "language_info": {
   "codemirror_mode": {
    "name": "ipython",
    "version": 3
   },
   "file_extension": ".py",
   "mimetype": "text/x-python",
   "name": "python",
   "nbconvert_exporter": "python",
   "pygments_lexer": "ipython3",
   "version": "3.6.1"
  }
 },
 "nbformat": 4,
 "nbformat_minor": 2
}
