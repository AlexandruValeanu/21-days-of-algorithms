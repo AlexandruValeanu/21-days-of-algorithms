{
 "cells": [
  {
   "cell_type": "markdown",
   "metadata": {},
   "source": [
    "# Definition(s)\n",
    "\n",
    "Selection algorithm is an algorithm for finding the kth smallest number in a list or array; such a number is called the kth order statistic.\n",
    "\n",
    "The best-known selection algorithm is quickselect, which is related to quicksort;"
   ]
  },
  {
   "cell_type": "markdown",
   "metadata": {},
   "source": [
    "# Algorithm(s)"
   ]
  },
  {
   "cell_type": "code",
   "execution_count": 1,
   "metadata": {
    "collapsed": true
   },
   "outputs": [],
   "source": [
    "import numpy as np"
   ]
  },
  {
   "cell_type": "code",
   "execution_count": 2,
   "metadata": {
    "collapsed": true
   },
   "outputs": [],
   "source": [
    "def impl_nth_element(A, l, r, k):\n",
    "    if l < r:\n",
    "        i, j, = l, r\n",
    "        pivot = A[np.random.randint(l, r, size=1)]\n",
    "        \n",
    "        while True:\n",
    "            while A[i] < pivot:\n",
    "                i += 1\n",
    "                \n",
    "            while A[j] > pivot:\n",
    "                j -= 1\n",
    "                \n",
    "            if i <= j:\n",
    "                A[i], A[j] = A[j], A[i]\n",
    "                i += 1\n",
    "                j -= 1\n",
    "                \n",
    "            if i > j:\n",
    "                break\n",
    "                \n",
    "        if l <= k <= j:\n",
    "            impl_nth_element(A, l, j, k)\n",
    "            \n",
    "        if i <= k <= r:\n",
    "            impl_nth_element(A, i, r, k)"
   ]
  },
  {
   "cell_type": "code",
   "execution_count": 3,
   "metadata": {},
   "outputs": [],
   "source": [
    "def nth_element(a, k):\n",
    "    impl_nth_element(a, 0, len(a) - 1, k)\n",
    "    return a[k]\n",
    "\n",
    "def median(a):\n",
    "    return nth_element(a, len(a) // 2)"
   ]
  },
  {
   "cell_type": "code",
   "execution_count": 4,
   "metadata": {
    "collapsed": true
   },
   "outputs": [],
   "source": [
    "import heapq\n",
    "\n",
    "def heap_select(a, k):\n",
    "    return heapq.nsmallest(k + 1, a)[-1]"
   ]
  },
  {
   "cell_type": "markdown",
   "metadata": {},
   "source": [
    "# Run(s)"
   ]
  },
  {
   "cell_type": "code",
   "execution_count": 5,
   "metadata": {
    "collapsed": true
   },
   "outputs": [],
   "source": [
    "np.random.seed(0xDEAD)"
   ]
  },
  {
   "cell_type": "code",
   "execution_count": 10,
   "metadata": {},
   "outputs": [
    {
     "name": "stdout",
     "output_type": "stream",
     "text": [
      "[1 1 4 2 0 9 9 0 3 9]\n",
      "1\n",
      "1\n",
      "[0 0 1 1 2 9 9 4 3 9]\n"
     ]
    }
   ],
   "source": [
    "xs = np.random.randint(0, 10, size=10)\n",
    "print(xs)\n",
    "print(nth_element(xs, 2))\n",
    "print(heap_select(xs, 2))\n",
    "print(xs)"
   ]
  },
  {
   "cell_type": "code",
   "execution_count": 7,
   "metadata": {},
   "outputs": [
    {
     "name": "stdout",
     "output_type": "stream",
     "text": [
      "[59 15 71 86 64 57 23 72 29 45 66 47 64 39 31 92 53 90 25 34]\n",
      "31\n",
      "31\n",
      "[29 15 25 23 31 39 53 47 34 45 66 72 64 57 64 92 86 90 71 59]\n"
     ]
    }
   ],
   "source": [
    "xs = np.random.randint(0, 100, size=20)\n",
    "print(xs)\n",
    "print(nth_element(xs, 4))\n",
    "print(heap_select(xs, 4))\n",
    "print(xs)"
   ]
  },
  {
   "cell_type": "code",
   "execution_count": 13,
   "metadata": {},
   "outputs": [
    {
     "name": "stdout",
     "output_type": "stream",
     "text": [
      "[69  7 99 42 96 84 13 38 86 71 19 93 43 51 11 72 18 26 27 99 88 13 65 38 21]\n",
      "69\n",
      "69\n",
      "[26  7 21 18 11 13 13 19 65 27 38 42 43 51 38 69 72 84 71 99 88 93 86 96 99]\n"
     ]
    }
   ],
   "source": [
    "xs = np.random.randint(0, 100, size=25)\n",
    "print(xs)\n",
    "print(nth_element(xs, 15))\n",
    "print(heap_select(xs, 15))\n",
    "print(xs)"
   ]
  },
  {
   "cell_type": "code",
   "execution_count": 9,
   "metadata": {},
   "outputs": [
    {
     "name": "stdout",
     "output_type": "stream",
     "text": [
      "[0 1 2 3 4 5 6 7 8 9]\n",
      "2\n",
      "2\n",
      "[0 1 2 3 4 5 6 7 8 9]\n"
     ]
    }
   ],
   "source": [
    "xs = np.array(range(10))\n",
    "print(xs)\n",
    "print(nth_element(xs, 2))\n",
    "print(heap_select(xs, 2))\n",
    "print(xs)"
   ]
  }
 ],
 "metadata": {
  "kernelspec": {
   "display_name": "Python 3",
   "language": "python",
   "name": "python3"
  },
  "language_info": {
   "codemirror_mode": {
    "name": "ipython",
    "version": 3
   },
   "file_extension": ".py",
   "mimetype": "text/x-python",
   "name": "python",
   "nbconvert_exporter": "python",
   "pygments_lexer": "ipython3",
   "version": "3.6.1"
  }
 },
 "nbformat": 4,
 "nbformat_minor": 2
}
