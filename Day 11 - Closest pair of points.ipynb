{
 "cells": [
  {
   "cell_type": "markdown",
   "metadata": {},
   "source": [
    "# Definition(s)\n",
    "\n",
    "The closest pair of points problem or closest pair problem is a problem of computational geometry: given n points in metric space, find a pair of points with the smallest distance between them. \n",
    "\n",
    "The closest pair problem for points in the Euclidean plane was among the first geometric problems that were treated at the origins of the systematic study of the computational complexity of geometric algorithms."
   ]
  },
  {
   "cell_type": "markdown",
   "metadata": {},
   "source": [
    "# Algorithm(s)"
   ]
  },
  {
   "cell_type": "code",
   "execution_count": 1,
   "metadata": {
    "collapsed": true
   },
   "outputs": [],
   "source": [
    "import numpy as np\n",
    "import matplotlib\n",
    "import matplotlib.pyplot as plt\n",
    "from operator import itemgetter\n",
    "\n",
    "%matplotlib inline"
   ]
  },
  {
   "cell_type": "code",
   "execution_count": 2,
   "metadata": {
    "collapsed": true
   },
   "outputs": [],
   "source": [
    "def euclid_distance(p, q):\n",
    "    return np.sqrt((p[0] - q[0]) ** 2 + (p[1] - q[1]) ** 2)"
   ]
  },
  {
   "cell_type": "code",
   "execution_count": 3,
   "metadata": {
    "collapsed": true
   },
   "outputs": [],
   "source": [
    "def search(points, st, dr):\n",
    "    if st >= dr:\n",
    "        return np.inf, None, None\n",
    "    elif st + 1 == dr:\n",
    "        # sort on y\n",
    "        if points[st][1] > points[dr][1]:\n",
    "            points[st], points[dr] = points[dr], points[st]\n",
    "        return euclid_distance(points[st], points[dr]), points[st], points[dr]\n",
    "\n",
    "    m = (st + dr) // 2\n",
    "    median_x = points[m][0]\n",
    "\n",
    "    dleft, pleft, qleft = search(points, st, m)\n",
    "    dright, pright, qright = search(points, m + 1, dr)\n",
    "\n",
    "    if dleft < dright:\n",
    "        d, p, q = dleft, pleft, qleft\n",
    "    else:\n",
    "        d, p, q = dright, pright, qright\n",
    "\n",
    "    # merge the two halves on y\n",
    "    aux = []\n",
    "    i, j = st, m + 1\n",
    "\n",
    "    while i <= m and j <= dr:\n",
    "        if points[i][1] <= points[j][1]:\n",
    "            aux.append(points[i])\n",
    "            i += 1\n",
    "        else:\n",
    "            aux.append(points[j])\n",
    "            j += 1\n",
    "\n",
    "    while i <= m:\n",
    "        aux.append(points[i])\n",
    "        i += 1\n",
    "\n",
    "    while j <= dr:\n",
    "        aux.append(points[j])\n",
    "        j += 1\n",
    "\n",
    "    # copy back the points\n",
    "    points[st:dr+1] = aux\n",
    "\n",
    "    # select a set of points to be tested\n",
    "    good_points = []\n",
    "\n",
    "    for i in range(st, dr + 1):\n",
    "        if abs(points[i][0] - median_x) <= d:\n",
    "            good_points.append(points[i])\n",
    "            \n",
    "    for i in range(len(good_points)):\n",
    "        j, cnt = i - 1, 8\n",
    "\n",
    "        # go for at most 8 steps\n",
    "        while j >= 0 and cnt > 0:\n",
    "            tmp_d = euclid_distance(aux[i], aux[j])\n",
    "            if tmp_d < d:\n",
    "                d, p, q = tmp_d, aux[i], aux[j]\n",
    "\n",
    "            j -= 1\n",
    "            cnt -= 1\n",
    "\n",
    "    return d, p, q\n",
    "\n",
    "def closest_pair(points):\n",
    "    points.sort(key = itemgetter(0))\n",
    "    \n",
    "    return search(points, 0, len(points) - 1)"
   ]
  },
  {
   "cell_type": "markdown",
   "metadata": {},
   "source": [
    "### Naive implementation of closest_pair"
   ]
  },
  {
   "cell_type": "code",
   "execution_count": 4,
   "metadata": {
    "collapsed": true
   },
   "outputs": [],
   "source": [
    "def naive_closest_pair(points):\n",
    "    best, p, q = np.inf, None, None\n",
    "    n = len(points)\n",
    "\n",
    "    for i in range(n):\n",
    "        for j in range(i + 1, n):\n",
    "            d = euclid_distance(points[i], points[j])\n",
    "\n",
    "            if d < best:\n",
    "                best, p, q = d, points[i], points[j]\n",
    "\n",
    "    return best, p, q"
   ]
  },
  {
   "cell_type": "markdown",
   "metadata": {},
   "source": [
    "### Draw points (with closest-pair marked as red)"
   ]
  },
  {
   "cell_type": "code",
   "execution_count": 5,
   "metadata": {
    "collapsed": true
   },
   "outputs": [],
   "source": [
    "def draw_points(points, p, q):\n",
    "    xs, ys = zip(*points)\n",
    "    plt.figure(figsize=(10,10))\n",
    "    plt.scatter(xs, ys)\n",
    "    plt.scatter([p[0], q[0]], [p[1], q[1]], s=100, c='red')\n",
    "    plt.plot([p[0], q[0]], [p[1], q[1]], 'k', c='red')\n",
    "    plt.show()"
   ]
  },
  {
   "cell_type": "markdown",
   "metadata": {},
   "source": [
    "# Run(s)"
   ]
  },
  {
   "cell_type": "code",
   "execution_count": 6,
   "metadata": {},
   "outputs": [
    {
     "name": "stdout",
     "output_type": "stream",
     "text": [
      "The closest pair of points is ((66, 77), (71, 95)) at distance 18.681541692269406\n"
     ]
    },
    {
     "data": {
      "image/png": "[encoded data removed]",
      "text/plain": [
       "<matplotlib.figure.Figure at 0x7fc555ae75f8>"
      ]
     },
     "metadata": {},
     "output_type": "display_data"
    }
   ],
   "source": [
    "points = [(26, 77), (12, 37), (14, 18), (19, 96), (71, 95), (91, 9), (98, 43), (66, 77), (2, 75), (94, 91)]\n",
    "\n",
    "xs, ys = zip(*points)\n",
    "\n",
    "d, p, q = closest_pair(points)\n",
    "assert d == naive_closest_pair(points)[0]\n",
    "\n",
    "print(\"The closest pair of points is ({0}, {1}) at distance {2}\".format(p, q, d))\n",
    "\n",
    "draw_points(points, p, q)"
   ]
  },
  {
   "cell_type": "code",
   "execution_count": 8,
   "metadata": {},
   "outputs": [
    {
     "name": "stdout",
     "output_type": "stream",
     "text": [
      "The closest pair of points is ((71.074721300595129, 24.832192386236439), (74.09492734061395, 14.947443509594061)) at distance 10.335855304639715\n"
     ]
    },
    {
     "data": {
      "image/png": "[encoded data removed]",
      "text/plain": [
       "<matplotlib.figure.Figure at 0x7fc552789e10>"
      ]
     },
     "metadata": {},
     "output_type": "display_data"
    }
   ],
   "source": [
    "N = 10\n",
    "x = np.random.rand(N) * 100\n",
    "y = np.random.rand(N) * 100\n",
    "\n",
    "points = list(zip(x, y))\n",
    "\n",
    "d, p, q = closest_pair(points)\n",
    "assert d == naive_closest_pair(points)[0]\n",
    "\n",
    "print(\"The closest pair of points is ({0}, {1}) at distance {2}\".format(p, q, d))\n",
    "\n",
    "draw_points(points, p, q)"
   ]
  },
  {
   "cell_type": "code",
   "execution_count": 9,
   "metadata": {},
   "outputs": [
    {
     "name": "stdout",
     "output_type": "stream",
     "text": [
      "The closest pair of points is ((71, 59), (76, 61)) at distance 5.385164807134504\n"
     ]
    },
    {
     "data": {
      "image/png": "[encoded data removed]",
      "text/plain": [
       "<matplotlib.figure.Figure at 0x7fc5526517b8>"
      ]
     },
     "metadata": {},
     "output_type": "display_data"
    }
   ],
   "source": [
    "N = 20\n",
    "x = np.random.randint(100, size=N)\n",
    "y = np.random.randint(100, size=N)\n",
    "\n",
    "points = list(zip(x, y))\n",
    "\n",
    "d, p, q = closest_pair(points)\n",
    "assert d == naive_closest_pair(points)[0]\n",
    "\n",
    "print(\"The closest pair of points is ({0}, {1}) at distance {2}\".format(p, q, d))\n",
    "\n",
    "draw_points(points, p, q)"
   ]
  },
  {
   "cell_type": "code",
   "execution_count": 13,
   "metadata": {},
   "outputs": [
    {
     "name": "stdout",
     "output_type": "stream",
     "text": [
      "The closest pair of points is ((0.90216690037000002, 0.040293494361602344), (0.94031501471282197, 0.04016455177547773)) at distance 0.038148332258481944\n"
     ]
    },
    {
     "data": {
      "image/png": "[encoded data removed]",
      "text/plain": [
       "<matplotlib.figure.Figure at 0x7fc55226bba8>"
      ]
     },
     "metadata": {},
     "output_type": "display_data"
    }
   ],
   "source": [
    "N = 20\n",
    "x = np.random.rand(N)\n",
    "y = np.random.rand(N)\n",
    "\n",
    "points = list(zip(x, y))\n",
    "\n",
    "d, p, q = closest_pair(points)\n",
    "assert d == naive_closest_pair(points)[0]\n",
    "\n",
    "print(\"The closest pair of points is ({0}, {1}) at distance {2}\".format(p, q, d))\n",
    "\n",
    "draw_points(points, p, q)"
   ]
  }
 ],
 "metadata": {
  "kernelspec": {
   "display_name": "Python 3",
   "language": "python",
   "name": "python3"
  },
  "language_info": {
   "codemirror_mode": {
    "name": "ipython",
    "version": 3
   },
   "file_extension": ".py",
   "mimetype": "text/x-python",
   "name": "python",
   "nbconvert_exporter": "python",
   "pygments_lexer": "ipython3",
   "version": "3.6.1"
  }
 },
 "nbformat": 4,
 "nbformat_minor": 2
}
