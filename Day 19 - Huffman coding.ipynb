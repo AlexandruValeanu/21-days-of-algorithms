{
 "cells": [
  {
   "cell_type": "markdown",
   "metadata": {},
   "source": [
    "# Definition(s)\n",
    "\n",
    "Huffman coding is a lossless data compression algorithm. The idea is to assign variable-length codes to input characters, lengths of the assigned codes are based on the frequencies of corresponding characters. The most frequent character gets the smallest code and the least frequent character gets the largest code."
   ]
  },
  {
   "cell_type": "markdown",
   "metadata": {},
   "source": [
    "# Algorithm(s)"
   ]
  },
  {
   "cell_type": "code",
   "execution_count": 1,
   "metadata": {},
   "outputs": [],
   "source": [
    "from collections import Counter\n",
    "from operator import itemgetter"
   ]
  },
  {
   "cell_type": "code",
   "execution_count": 2,
   "metadata": {},
   "outputs": [],
   "source": [
    "def find_min(queue):\n",
    "    elem = min(queue, key=itemgetter(0))\n",
    "    queue.remove(elem)\n",
    "    return elem\n",
    "\n",
    "def huffman_coding(text):\n",
    "    queue = [(c, e) for (e, c) in Counter(text).items()]\n",
    "    \n",
    "    while len(queue) > 1:\n",
    "        c1, e1 = find_min(queue)\n",
    "        c2, e2 = find_min(queue)\n",
    "        queue.append((c1 + c2, (e1, e2)))\n",
    "    \n",
    "    assert len(queue) == 1\n",
    "    mapping = dict()\n",
    "    create_codes(queue[0][1], mapping)\n",
    "    return mapping"
   ]
  },
  {
   "cell_type": "code",
   "execution_count": 3,
   "metadata": {},
   "outputs": [],
   "source": [
    "def create_codes(node, mapping, code=''):\n",
    "    if isinstance(node, tuple):\n",
    "        create_codes(node[0], mapping, code + '0')\n",
    "        create_codes(node[1], mapping, code + '1')\n",
    "    else:\n",
    "        mapping[node] = code"
   ]
  },
  {
   "cell_type": "code",
   "execution_count": 4,
   "metadata": {
    "collapsed": true
   },
   "outputs": [],
   "source": [
    "def encode(text):\n",
    "    mapping = huffman_coding(text)\n",
    "    encoded = ''.join(map(lambda c: mapping[c], text))\n",
    "    return encoded\n",
    "\n",
    "def decode(encoded, mapping):\n",
    "    rev_mapping = dict((m, c) for c, m in mapping.items())\n",
    "    decoded = []\n",
    "    word = ''\n",
    "    \n",
    "    for c in encoded:\n",
    "        word += c\n",
    "        if word in rev_mapping:\n",
    "            decoded.append(rev_mapping[word])\n",
    "            word = ''\n",
    "            \n",
    "    return ''.join(decoded)"
   ]
  },
  {
   "cell_type": "markdown",
   "metadata": {},
   "source": [
    "# Run(s)"
   ]
  },
  {
   "cell_type": "code",
   "execution_count": 5,
   "metadata": {},
   "outputs": [
    {
     "name": "stdout",
     "output_type": "stream",
     "text": [
      "Huffman codes\n",
      "a 111\n",
      "d 100\n",
      "e 001\n",
      "l 000\n",
      "n 011\n",
      "r 101\n",
      "u 110\n",
      "x 010\n",
      "\n",
      "Encoded text: 111000001010111011100101110\n",
      "Decoded text: alexandru\n"
     ]
    }
   ],
   "source": [
    "text = 'alexandru'\n",
    "mapping = huffman_coding(text)\n",
    "\n",
    "print(\"Huffman codes\")\n",
    "for (e, m) in sorted(mapping.items()):\n",
    "    print(e, m)\n",
    "    \n",
    "print()\n",
    "print(\"Encoded text:\", encode(text))\n",
    "print(\"Decoded text:\", decode(encode(text), mapping))"
   ]
  },
  {
   "cell_type": "code",
   "execution_count": 6,
   "metadata": {},
   "outputs": [
    {
     "name": "stdout",
     "output_type": "stream",
     "text": [
      "Huffman codes\n",
      "a 0\n",
      "b 10\n",
      "c 11\n",
      "\n",
      "Encoded text: 010110\n",
      "Decoded text: abca\n"
     ]
    }
   ],
   "source": [
    "text = 'abca'\n",
    "mapping = huffman_coding(text)\n",
    "\n",
    "print(\"Huffman codes\")\n",
    "for (e, m) in sorted(mapping.items()):\n",
    "    print(e, m)\n",
    "    \n",
    "print()\n",
    "print(\"Encoded text:\", encode(text))\n",
    "print(\"Decoded text:\", decode(encode(text), mapping))"
   ]
  },
  {
   "cell_type": "code",
   "execution_count": 7,
   "metadata": {},
   "outputs": [
    {
     "name": "stdout",
     "output_type": "stream",
     "text": [
      "Huffman codes\n",
      "a 0\n",
      "b 10\n",
      "c 11\n",
      "\n",
      "Encoded text: 010110\n",
      "Decoded text: abca\n"
     ]
    }
   ],
   "source": [
    "text = 'abca'\n",
    "mapping = huffman_coding(text)\n",
    "\n",
    "print(\"Huffman codes\")\n",
    "for (e, m) in sorted(mapping.items()):\n",
    "    print(e, m)\n",
    "    \n",
    "print()\n",
    "print(\"Encoded text:\", encode(text))\n",
    "print(\"Decoded text:\", decode(encode(text), mapping))"
   ]
  },
  {
   "cell_type": "code",
   "execution_count": 8,
   "metadata": {},
   "outputs": [
    {
     "name": "stdout",
     "output_type": "stream",
     "text": [
      "Huffman codes\n",
      "a 0\n",
      "b 111\n",
      "c 10\n",
      "d 110\n",
      "\n",
      "Encoded text: 01111000111101001111100\n",
      "Decoded text: abcaabccabda\n"
     ]
    }
   ],
   "source": [
    "text = 'abcaabccabda'\n",
    "mapping = huffman_coding(text)\n",
    "\n",
    "print(\"Huffman codes\")\n",
    "for (e, m) in sorted(mapping.items()):\n",
    "    print(e, m)\n",
    "    \n",
    "print()\n",
    "print(\"Encoded text:\", encode(text))\n",
    "print(\"Decoded text:\", decode(encode(text), mapping))"
   ]
  }
 ],
 "metadata": {
  "kernelspec": {
   "display_name": "Python 3",
   "language": "python",
   "name": "python3"
  },
  "language_info": {
   "codemirror_mode": {
    "name": "ipython",
    "version": 3
   },
   "file_extension": ".py",
   "mimetype": "text/x-python",
   "name": "python",
   "nbconvert_exporter": "python",
   "pygments_lexer": "ipython3",
   "version": "3.6.1"
  }
 },
 "nbformat": 4,
 "nbformat_minor": 2
}
