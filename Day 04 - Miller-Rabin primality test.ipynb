{
 "cells": [
  {
   "cell_type": "markdown",
   "metadata": {},
   "source": [
    "# Definition(s)"
   ]
  },
  {
   "cell_type": "markdown",
   "metadata": {},
   "source": [
    "The Miller-Rabin primality test or Rabin-Miller primality test is a primality test: an algorithm which determines whether a given number is prime or not.\n",
    "\n",
    "The pseudocode, from Wikipedia is:\n",
    "\n",
    "~~~~\n",
    "Input: n > 2, an odd integer to be tested for primality;\n",
    "       k, a parameter that determines the accuracy of the test\n",
    "Output: composite if n is composite, otherwise probably prime\n",
    "write n − 1 as 2^s·d with d odd by factoring powers of 2 from n − 1\n",
    "LOOP: repeat k times:\n",
    "   pick a randomly in the range [2, n − 1]\n",
    "   x ← a^d mod n\n",
    "   if x = 1 or x = n − 1 then do next LOOP\n",
    "   for r = 1 .. s − 1\n",
    "      x ← x^2 mod n\n",
    "      if x = 1 then return composite\n",
    "      if x = n − 1 then do next LOOP\n",
    "   return composite\n",
    "return probably prime\n",
    "~~~~\n",
    "\n",
    "For more, check [wikipedia](https://en.wikipedia.org/wiki/Miller%E2%80%93Rabin_primality_test)."
   ]
  },
  {
   "cell_type": "markdown",
   "metadata": {},
   "source": [
    "# Algorithm(s)"
   ]
  },
  {
   "cell_type": "code",
   "execution_count": 22,
   "metadata": {
    "collapsed": true
   },
   "outputs": [],
   "source": [
    "import random  # used for generation random bases"
   ]
  },
  {
   "cell_type": "code",
   "execution_count": 2,
   "metadata": {
    "collapsed": true
   },
   "outputs": [],
   "source": [
    "def miller_rabin(n, number_trials=13, use_random_bases=False, bases=[2, 3, 5, 7, 11, 13, 17, 19, 23, 29, 31, 37, 41],\n",
    "                 fast_version=True):\n",
    "    if n < 2:\n",
    "        return False\n",
    "\n",
    "    # special case 2\n",
    "    if n == 2 or n == 3:\n",
    "        return True\n",
    "\n",
    "    # ensure n is odd\n",
    "    if n % 2 == 0:\n",
    "        return False\n",
    "\n",
    "    # write n-1 as 2**s * d\n",
    "    # repeatedly try to divide n-1 by 2\n",
    "    s, d = 0, n - 1\n",
    "    while True:\n",
    "        quotient, remainder = divmod(d, 2)\n",
    "        if remainder == 1:\n",
    "            break\n",
    "\n",
    "        s += 1\n",
    "        d = quotient\n",
    "\n",
    "    assert 2 ** s * d == n - 1\n",
    "\n",
    "    # test the base a to see whether it is a witness for the compositeness of n\n",
    "    def slow_witness(a):\n",
    "        if pow(a, d, n) == 1:\n",
    "            return False  # possibly prime\n",
    "\n",
    "        for i in range(s):\n",
    "            if pow(a, 2 ** i * d, n) == n - 1:\n",
    "                return False  # possibly prime\n",
    "\n",
    "        return True  # composite\n",
    "    \n",
    "    # test the base a to see whether it is a witness for the compositeness of n (but faster)\n",
    "    def fast_witness(a):\n",
    "        x = pow(a, d, n)\n",
    "\n",
    "        if x == 1 or x == n - 1:\n",
    "            return False  # possibly prime\n",
    "\n",
    "        for _ in range(s - 1):\n",
    "            x = pow(x, 2, n)\n",
    "\n",
    "            if x == 1:\n",
    "                return True  # composite\n",
    "\n",
    "            if x == n - 1:\n",
    "                return False  # possibly prime\n",
    "\n",
    "        return True  # composite\n",
    "\n",
    "    if fast_version:\n",
    "        witness = fast_witness\n",
    "    else:\n",
    "        witness = slow_witness\n",
    "\n",
    "    for i in range(number_trials):\n",
    "        if use_random_bases:\n",
    "            a = random.randrange(2, n)\n",
    "        else:\n",
    "            a = bases[i]\n",
    "\n",
    "        if a != n and witness(a):  # do not use a is a == n\n",
    "            return False  # definitely composite\n",
    "\n",
    "    return True  # possibly prime"
   ]
  },
  {
   "cell_type": "code",
   "execution_count": 14,
   "metadata": {
    "collapsed": true
   },
   "outputs": [],
   "source": [
    "# naive implementation O(sqrt n) of a primality test\n",
    "def naive_is_prime(n):\n",
    "    if n < 2:\n",
    "        return False\n",
    "\n",
    "    i = 2\n",
    "    while i * i <= n:\n",
    "        if n % i == 0:\n",
    "            return False  # composite (i is a factor of n)\n",
    "\n",
    "        i += 1\n",
    "\n",
    "    return True  # prime"
   ]
  },
  {
   "cell_type": "code",
   "execution_count": 34,
   "metadata": {
    "collapsed": true
   },
   "outputs": [],
   "source": [
    "# helper functions (basic choices of options)\n",
    "\n",
    "def is_prime(n):\n",
    "    return miller_rabin(n)\n",
    "\n",
    "\n",
    "def is_prime_slower(n):\n",
    "    return miller_rabin(n, fast_version=False)\n",
    "\n",
    "def next_probable_prime(n):\n",
    "    n += 1\n",
    "    while not is_prime(n):\n",
    "        n += 1\n",
    "        \n",
    "    return n"
   ]
  },
  {
   "cell_type": "markdown",
   "metadata": {},
   "source": [
    "# Run(s)"
   ]
  },
  {
   "cell_type": "code",
   "execution_count": 16,
   "metadata": {},
   "outputs": [
    {
     "name": "stdout",
     "output_type": "stream",
     "text": [
      "221 False\n"
     ]
    }
   ],
   "source": [
    "# basic usage\n",
    "print(221, is_prime(221))"
   ]
  },
  {
   "cell_type": "code",
   "execution_count": 24,
   "metadata": {},
   "outputs": [
    {
     "name": "stdout",
     "output_type": "stream",
     "text": [
      "221 False\n",
      "221 True\n",
      "221 False\n"
     ]
    }
   ],
   "source": [
    "# different behaviours for n=221\n",
    "print(221, miller_rabin(221))\n",
    "print(221, miller_rabin(221, number_trials=1, bases=[174]))\n",
    "print(221, miller_rabin(221, use_random_bases=True))"
   ]
  },
  {
   "cell_type": "code",
   "execution_count": 31,
   "metadata": {},
   "outputs": [
    {
     "name": "stdout",
     "output_type": "stream",
     "text": [
      "89888786858483 True 0.00012834600056521595\n",
      "89888786858483 True 1.969153579993872\n"
     ]
    }
   ],
   "source": [
    "import timeit\n",
    "\n",
    "n = 89888786858483\n",
    "print(n, is_prime(n), timeit.timeit(\"is_prime(n)\", number=1, setup=\"from __main__ import is_prime, n\"))\n",
    "print(n, naive_is_prime(n), timeit.timeit(\"naive_is_prime(n)\", number=1, setup=\"from __main__ import naive_is_prime, n\"))"
   ]
  },
  {
   "cell_type": "code",
   "execution_count": 15,
   "metadata": {},
   "outputs": [
    {
     "data": {
      "text/plain": [
       "True"
      ]
     },
     "execution_count": 15,
     "metadata": {},
     "output_type": "execute_result"
    }
   ],
   "source": [
    "# test for correctness\n",
    "is_prime(100) == naive_is_prime(100)"
   ]
  },
  {
   "cell_type": "code",
   "execution_count": 25,
   "metadata": {},
   "outputs": [
    {
     "data": {
      "text/plain": [
       "True"
      ]
     },
     "execution_count": 25,
     "metadata": {},
     "output_type": "execute_result"
    }
   ],
   "source": [
    "# test for correctness (0 <= i <= 10^6)\n",
    "N = 10 ** 6\n",
    "[is_prime(i) for i in range(N)] == [naive_is_prime(i) for i in range(N)]"
   ]
  },
  {
   "cell_type": "code",
   "execution_count": 13,
   "metadata": {},
   "outputs": [
    {
     "name": "stdout",
     "output_type": "stream",
     "text": [
      "CPU times: user 11.8 s, sys: 8 ms, total: 11.8 s\n",
      "Wall time: 11.8 s\n"
     ]
    }
   ],
   "source": [
    "# Miller-Rabin with slower witness function\n",
    "%%time\n",
    "xs = [is_prime_slower(i) for i in range(10 ** 6)]"
   ]
  },
  {
   "cell_type": "code",
   "execution_count": 12,
   "metadata": {},
   "outputs": [
    {
     "name": "stdout",
     "output_type": "stream",
     "text": [
      "CPU times: user 6.51 s, sys: 0 ns, total: 6.51 s\n",
      "Wall time: 6.51 s\n"
     ]
    }
   ],
   "source": [
    "# Miller-Rabin with faster witness function\n",
    "%%time\n",
    "xs = [is_prime(i) for i in range(10 ** 6)]"
   ]
  },
  {
   "cell_type": "code",
   "execution_count": 11,
   "metadata": {},
   "outputs": [
    {
     "name": "stdout",
     "output_type": "stream",
     "text": [
      "CPU times: user 12.1 s, sys: 4 ms, total: 12.1 s\n",
      "Wall time: 12.1 s\n"
     ]
    }
   ],
   "source": [
    "# Naive implementation of a primality test\n",
    "%%time\n",
    "xs = len([naive_is_prime(i) for i in range(10 ** 6)])"
   ]
  },
  {
   "cell_type": "code",
   "execution_count": 36,
   "metadata": {},
   "outputs": [
    {
     "name": "stdout",
     "output_type": "stream",
     "text": [
      "101\n",
      "1048583\n",
      "1031\n",
      "17\n"
     ]
    }
   ],
   "source": [
    "print(next_probable_prime(100))\n",
    "print(next_probable_prime(2 ** 20))\n",
    "print(next_probable_prime(2 ** 10))\n",
    "print(next_probable_prime(13))"
   ]
  }
 ],
 "metadata": {
  "kernelspec": {
   "display_name": "Python 3",
   "language": "python",
   "name": "python3"
  },
  "language_info": {
   "codemirror_mode": {
    "name": "ipython",
    "version": 3
   },
   "file_extension": ".py",
   "mimetype": "text/x-python",
   "name": "python",
   "nbconvert_exporter": "python",
   "pygments_lexer": "ipython3",
   "version": "3.6.1"
  }
 },
 "nbformat": 4,
 "nbformat_minor": 2
}
