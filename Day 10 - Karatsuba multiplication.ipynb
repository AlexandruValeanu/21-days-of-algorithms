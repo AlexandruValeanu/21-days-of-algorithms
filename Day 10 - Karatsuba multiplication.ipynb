{
 "cells": [
  {
   "cell_type": "markdown",
   "metadata": {},
   "source": [
    "# Definition(s)\n",
    "\n",
    "The Karatsuba algorithm is a fast multiplication algorithm. \n",
    "\n",
    "It reduces the multiplication of two n-digit numbers to at most ${\\displaystyle n^{\\log _{2}3}\\approx n^{1.585}}$ single-digit multiplications in general."
   ]
  },
  {
   "cell_type": "code",
   "execution_count": 1,
   "metadata": {},
   "outputs": [],
   "source": [
    "import numpy as np  # used for generating random numbers"
   ]
  },
  {
   "cell_type": "markdown",
   "metadata": {},
   "source": [
    "### Convertion utility functions"
   ]
  },
  {
   "cell_type": "code",
   "execution_count": 2,
   "metadata": {
    "collapsed": true
   },
   "outputs": [],
   "source": [
    "def int_to_big(x):\n",
    "    if x == 0:\n",
    "        return [0]\n",
    "\n",
    "    z = []\n",
    "\n",
    "    while x > 0:\n",
    "        t = x % 10\n",
    "        z.append(t)\n",
    "        x //= 10\n",
    "\n",
    "    trim(z)\n",
    "    return z\n",
    "\n",
    "\n",
    "def big_to_int(x):\n",
    "    z, p = 0, 1\n",
    "\n",
    "    for d in x:\n",
    "        z += p * d\n",
    "        p *= 10\n",
    "\n",
    "    return z"
   ]
  },
  {
   "cell_type": "markdown",
   "metadata": {},
   "source": [
    "### Multiplication utility functions"
   ]
  },
  {
   "cell_type": "code",
   "execution_count": 3,
   "metadata": {},
   "outputs": [],
   "source": [
    "from itertools import zip_longest\n",
    "\n",
    "\n",
    "def trim(z):\n",
    "    while len(z) > 1 and z[-1] == 0:\n",
    "        z.pop(-1)\n",
    "\n",
    "\n",
    "def add(x, y):\n",
    "    z, carry = [], 0\n",
    "\n",
    "    for r, s in zip_longest(x, y, fillvalue=0):\n",
    "        carry += r + s\n",
    "        z.append(carry % 10)\n",
    "        carry //= 10\n",
    "        \n",
    "    if carry:\n",
    "        z.append(carry)\n",
    "\n",
    "    return z\n",
    "\n",
    "def subtract(x, y):\n",
    "    z, carry = [], 0\n",
    "\n",
    "    for r, s in zip_longest(x, y, fillvalue=0):\n",
    "        carry += r - s\n",
    "        z.append(carry % 10)\n",
    "        carry //= 10\n",
    "        \n",
    "    trim(z)\n",
    "    return z"
   ]
  },
  {
   "cell_type": "markdown",
   "metadata": {},
   "source": [
    "### Karatsuba's algorithm"
   ]
  },
  {
   "cell_type": "code",
   "execution_count": 4,
   "metadata": {
    "collapsed": true
   },
   "outputs": [],
   "source": [
    "def karatsuba(x, y):\n",
    "    # ensure same length\n",
    "    while len(x) < len(y):\n",
    "        x.append(0)\n",
    "\n",
    "    while len(x) > len(y):\n",
    "        y.append(0)\n",
    "\n",
    "    # length\n",
    "    n = len(x)\n",
    "    half = n // 2\n",
    "\n",
    "    if n == 1:\n",
    "        return add([x[0] * y[0]], [])\n",
    "    \n",
    "    # cut-off for improved efficiency\n",
    "    if n <= 50:\n",
    "        a = big_to_int(x)\n",
    "        b = big_to_int(y)\n",
    "        z = a * b\n",
    "        return int_to_big(z)\n",
    "\n",
    "    x0, x1 = x[:half], x[half:]\n",
    "    y0, y1 = y[:half], y[half:]\n",
    "\n",
    "    # x = x0x1\n",
    "    # y = y0y1\n",
    "\n",
    "    # z0 = x0 * y0\n",
    "    # z1 = x1 * y1\n",
    "    # z2 = (x0 + x1) * (y0 + y1)\n",
    "    # z2 = z2 - (z0 + z1)\n",
    "\n",
    "    z0 = karatsuba(x0, y0)\n",
    "    z1 = karatsuba(x1, y1)\n",
    "    z2 = karatsuba(add(x0, x1), add(y0, y1))\n",
    "    z2 = subtract(z2, add(z0, z1))\n",
    "\n",
    "    z = add(z0, [0] * (half << 1) + z1)\n",
    "    z = add(z, [0] * half + z2)\n",
    "\n",
    "    return z"
   ]
  },
  {
   "cell_type": "markdown",
   "metadata": {},
   "source": [
    "### Multiplication and testing"
   ]
  },
  {
   "cell_type": "code",
   "execution_count": 5,
   "metadata": {
    "collapsed": true
   },
   "outputs": [],
   "source": [
    "def multiply(x, y):\n",
    "    xb = int_to_big(x)\n",
    "    yb = int_to_big(y)\n",
    "    \n",
    "    zb = karatsuba(xb, yb)\n",
    "\n",
    "    return big_to_int(zb)\n",
    "\n",
    "\n",
    "def test(x, y):\n",
    "    z = multiply(x, y)\n",
    "    assert x * y == z\n",
    "    print(\"{} x {} = {}\".format(x, y, z))"
   ]
  },
  {
   "cell_type": "markdown",
   "metadata": {},
   "source": [
    "### Generate big integers"
   ]
  },
  {
   "cell_type": "code",
   "execution_count": 6,
   "metadata": {},
   "outputs": [],
   "source": [
    "def gen_long(n):\n",
    "    x = ''.join(map(str, np.random.randint(0, 10, n)))\n",
    "    return int(x)"
   ]
  },
  {
   "cell_type": "markdown",
   "metadata": {},
   "source": [
    "### Run(s)"
   ]
  },
  {
   "cell_type": "code",
   "execution_count": 7,
   "metadata": {},
   "outputs": [
    {
     "name": "stdout",
     "output_type": "stream",
     "text": [
      "1432423423420 x 12321312332131233 = 17649336391818484838565676860\n",
      "8931283129323420 x 1233123602345430533 = 11013376025998265385094936899982860\n"
     ]
    }
   ],
   "source": [
    "test(1432423423420, 12321312332131233)\n",
    "test(8931283129323420, 1233123602345430533)"
   ]
  },
  {
   "cell_type": "code",
   "execution_count": 8,
   "metadata": {},
   "outputs": [
    {
     "name": "stdout",
     "output_type": "stream",
     "text": [
      "755 x 56 = 42280\n",
      "276 x 5194 = 1433544\n",
      "8771335752925 x 3258851870994 = 28584483929536201958157450\n",
      "44640241182 x 985490183003 = 43992519451747237029546\n",
      "3172239478 x 4188169149 = 13285875514999464222\n",
      "2357279 x 8530917 = 20109751494843\n",
      "3133832 x 9434478 = 29566069059696\n",
      "79790 x 92703 = 7396772370\n",
      "9076 x 1363 = 12370588\n",
      "965055 x 721654 = 696435800970\n",
      "86241813 x 75117433 = 6478263609826029\n",
      "738 x 402 = 296676\n",
      "763596619269 x 2216534026665 = 1692537889256097498807885\n",
      "14488431985761 x 25110754122358 = 363815453212951534707744438\n",
      "34 x 70 = 2380\n",
      "1525183 x 2119398 = 3232469799834\n",
      "521791938414 x 441693054302 = 230471874988240741757028\n",
      "314061344195 x 180725348526 = 56758845888185421906570\n",
      "35080644461653 x 88581266358920 = 3107487911100256102874494760\n",
      "23133 x 89268 = 2065036644\n",
      "4991 x 5856 = 29227296\n",
      "3510 x 4347 = 15257970\n",
      "7021024 x 2249169 = 15791469529056\n",
      "499860787 x 854644335 = 427203189898191645\n",
      "6429628 x 7129417 = 45839499166876\n",
      "322048556457 x 901771307403 = 290414147803477747551171\n",
      "93592 x 47401 = 4436354392\n",
      "58888 x 57666 = 3395835408\n",
      "712227445386 x 838125772789 = 596936178065676542401554\n",
      "1686242329 x 63929711532 = 107800985666017838028\n"
     ]
    }
   ],
   "source": [
    "tests = 30\n",
    "for _ in range(tests):\n",
    "    n = np.random.randint(1, 15)\n",
    "    x, y = gen_long(n), gen_long(n)\n",
    "    test(int(x), int(y))"
   ]
  },
  {
   "cell_type": "code",
   "execution_count": 9,
   "metadata": {},
   "outputs": [
    {
     "name": "stdout",
     "output_type": "stream",
     "text": [
      "CPU times: user 32 ms, sys: 0 ns, total: 32 ms\n",
      "Wall time: 33.6 ms\n"
     ]
    }
   ],
   "source": [
    "%%time\n",
    "\n",
    "a, b = gen_long(1000), gen_long(1000)\n",
    "\n",
    "z = multiply(a, b)\n",
    "assert z == a * b"
   ]
  },
  {
   "cell_type": "code",
   "execution_count": 10,
   "metadata": {},
   "outputs": [
    {
     "name": "stdout",
     "output_type": "stream",
     "text": [
      "CPU times: user 4.77 s, sys: 4 ms, total: 4.77 s\n",
      "Wall time: 4.77 s\n"
     ]
    }
   ],
   "source": [
    "%%time\n",
    "\n",
    "a, b = gen_long(20000), gen_long(20000)\n",
    "\n",
    "z = multiply(a, b)\n",
    "assert z == a * b"
   ]
  },
  {
   "cell_type": "markdown",
   "metadata": {},
   "source": [
    "### Karatsuba multiplication using Baruchel's implementation\n",
    "\n",
    "Karatsuba's algorithm is already implemented in Python. Check this [package](https://github.com/baruchel/karatsuba)."
   ]
  },
  {
   "cell_type": "code",
   "execution_count": 11,
   "metadata": {
    "collapsed": true
   },
   "outputs": [],
   "source": [
    "from karatsuba import *"
   ]
  },
  {
   "cell_type": "code",
   "execution_count": 12,
   "metadata": {
    "collapsed": true
   },
   "outputs": [],
   "source": [
    "def power_of_two(x):\n",
    "    p = 1\n",
    "    while p < x:\n",
    "        p <<= 1\n",
    "\n",
    "    return p\n",
    "\n",
    "\n",
    "def reverse(num):\n",
    "    return int(str(num)[::-1])"
   ]
  },
  {
   "cell_type": "code",
   "execution_count": 13,
   "metadata": {
    "collapsed": true
   },
   "outputs": [],
   "source": [
    "def kat_multiply(x, y):\n",
    "    if x == 0 or y == 0:\n",
    "        return 0\n",
    "\n",
    "    xs = list(map(int, str(x)))\n",
    "    ys = list(map(int, str(y)))\n",
    "\n",
    "    n = power_of_two(max(len(xs), len(ys)))\n",
    "    plan = make_plan(range(n), range(n))\n",
    "\n",
    "    xs = [0] * (n - len(xs)) + xs\n",
    "    ys = [0] * (n - len(ys)) + ys\n",
    "\n",
    "    zs = plan(xs, ys)\n",
    "    zs.pop(-1)\n",
    "    \n",
    "    zs = list(reversed(zs))\n",
    "\n",
    "    while zs[-1] == 0:\n",
    "        zs.pop(-1)\n",
    "\n",
    "    ans = 0\n",
    "    for p, d in enumerate(zs):\n",
    "        ans += d * 10 ** p\n",
    "\n",
    "    return ans"
   ]
  },
  {
   "cell_type": "code",
   "execution_count": 14,
   "metadata": {},
   "outputs": [
    {
     "name": "stdout",
     "output_type": "stream",
     "text": [
      "741760 x 262930 = 195030956800\n",
      "430408061 x 471695629 = 203021601060065369\n",
      "2 x 2 = 4\n",
      "2591169055 x 289097656 = 749100900100235080\n",
      "80806 x 1670 = 134946020\n",
      "2706508 x 3428885 = 9280304683580\n",
      "868464280941 x 454843598229 = 395015418476565586053489\n",
      "52 x 12 = 624\n",
      "898196568 x 774385300 = 695550218769650400\n",
      "91557 x 30470 = 2789741790\n",
      "1024262 x 90070663 = 92255957425706\n",
      "925782549 x 582219748 = 539008882381577652\n",
      "1699487528480 x 309157175085 = 525408763397065283920800\n",
      "37633788 x 67889859 = 2554952560955892\n",
      "7559870 x 4880346 = 36894781315020\n",
      "3070 x 8061 = 24747270\n",
      "648467 x 281305 = 182417009435\n",
      "974553 x 2186880 = 2131230464640\n",
      "855 x 993 = 849015\n",
      "9565 x 892 = 8531980\n",
      "89149 x 2457 = 219039093\n",
      "30 x 61 = 1830\n",
      "895 x 168 = 150360\n",
      "6 x 0 = 0\n",
      "61850 x 96746 = 5983740100\n",
      "33 x 89 = 2937\n",
      "859900676683 x 7158636465867 = 6155716341126632932279161\n",
      "8422334556886 x 2032395236742 = 17117512635662649636305412\n",
      "2457187 x 1447067 = 3555714220529\n",
      "374840 x 380954 = 142796797360\n"
     ]
    }
   ],
   "source": [
    "tests = 30\n",
    "for _ in range(tests):\n",
    "    n = np.random.randint(1, 15)\n",
    "    x, y = gen_long(n), gen_long(n)\n",
    "    \n",
    "    z = kat_multiply(x, y)\n",
    "    \n",
    "    assert z == x * y\n",
    "    print(\"{} x {} = {}\".format(x, y, z))"
   ]
  },
  {
   "cell_type": "code",
   "execution_count": 15,
   "metadata": {},
   "outputs": [
    {
     "name": "stdout",
     "output_type": "stream",
     "text": [
      "CPU times: user 888 ms, sys: 20 ms, total: 908 ms\n",
      "Wall time: 908 ms\n"
     ]
    }
   ],
   "source": [
    "%%time\n",
    "\n",
    "a, b = gen_long(100), gen_long(100)\n",
    "\n",
    "z = kat_multiply(a, b)\n",
    "assert z == a * b"
   ]
  }
 ],
 "metadata": {
  "kernelspec": {
   "display_name": "Python 3",
   "language": "python",
   "name": "python3"
  },
  "language_info": {
   "codemirror_mode": {
    "name": "ipython",
    "version": 3
   },
   "file_extension": ".py",
   "mimetype": "text/x-python",
   "name": "python",
   "nbconvert_exporter": "python",
   "pygments_lexer": "ipython3",
   "version": "3.6.1"
  }
 },
 "nbformat": 4,
 "nbformat_minor": 2
}
