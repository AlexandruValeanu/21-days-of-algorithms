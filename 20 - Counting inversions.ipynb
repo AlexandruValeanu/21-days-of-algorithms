{
 "cells": [
  {
   "cell_type": "markdown",
   "metadata": {},
   "source": [
    "# Definition(s)\n",
    "\n",
    "Inversion Count for an array indicates – how far (or close) the array is from being sorted. If array is already sorted then inversion count is 0. If array is sorted in reverse order that inversion count is the maximum. \n",
    "\n",
    "Formally speaking, two elements a[i] and a[j] form an inversion if a[i] > a[j] and i < j"
   ]
  },
  {
   "cell_type": "markdown",
   "metadata": {},
   "source": [
    "# Algorithm(s)"
   ]
  },
  {
   "cell_type": "code",
   "execution_count": 1,
   "metadata": {
    "collapsed": true
   },
   "outputs": [],
   "source": [
    "from collections import defaultdict\n",
    "import numpy as np"
   ]
  },
  {
   "cell_type": "code",
   "execution_count": 2,
   "metadata": {
    "collapsed": true
   },
   "outputs": [],
   "source": [
    "class FenwickTree:\n",
    "    def __init__(self, n):\n",
    "        self._tree = defaultdict(lambda: 0)\n",
    "        self._n = n\n",
    "\n",
    "    @staticmethod\n",
    "    def lsb(x):\n",
    "        return x & (-x)\n",
    "\n",
    "    def update(self, position, key):\n",
    "        while position <= self._n:\n",
    "            self._tree[position] += key\n",
    "            position += FenwickTree.lsb(position)\n",
    "\n",
    "    def query(self, position):\n",
    "        suma = 0\n",
    "        while position > 0:\n",
    "            suma += self._tree[position]\n",
    "            position -= FenwickTree.lsb(position)\n",
    "\n",
    "        return suma"
   ]
  },
  {
   "cell_type": "code",
   "execution_count": 3,
   "metadata": {
    "collapsed": true
   },
   "outputs": [],
   "source": [
    "def count_inversions(xs, max_size=2**31):\n",
    "    aib = FenwickTree(max_size)\n",
    "    inversions = 0\n",
    "\n",
    "    for i, x in enumerate(xs):\n",
    "        inversions += i - aib.query(x)\n",
    "        aib.update(x, 1)\n",
    "\n",
    "    return inversions"
   ]
  },
  {
   "cell_type": "markdown",
   "metadata": {},
   "source": [
    "# Run(s)"
   ]
  },
  {
   "cell_type": "code",
   "execution_count": 4,
   "metadata": {},
   "outputs": [
    {
     "data": {
      "text/plain": [
       "3"
      ]
     },
     "execution_count": 4,
     "metadata": {},
     "output_type": "execute_result"
    }
   ],
   "source": [
    "count_inversions([3, 2, 1])"
   ]
  },
  {
   "cell_type": "code",
   "execution_count": 5,
   "metadata": {},
   "outputs": [
    {
     "data": {
      "text/plain": [
       "45"
      ]
     },
     "execution_count": 5,
     "metadata": {},
     "output_type": "execute_result"
    }
   ],
   "source": [
    "count_inversions(range(10, 0, -1))"
   ]
  },
  {
   "cell_type": "code",
   "execution_count": 6,
   "metadata": {},
   "outputs": [
    {
     "data": {
      "text/plain": [
       "4"
      ]
     },
     "execution_count": 6,
     "metadata": {},
     "output_type": "execute_result"
    }
   ],
   "source": [
    "count_inversions([3, 4, 1, 2, 5])"
   ]
  },
  {
   "cell_type": "code",
   "execution_count": 7,
   "metadata": {},
   "outputs": [
    {
     "name": "stdout",
     "output_type": "stream",
     "text": [
      "[66  4 69 13 60  2 58 46 63 44 47 65 79 34 38 61 87  3 64  1]\n"
     ]
    },
    {
     "data": {
      "text/plain": [
       "97"
      ]
     },
     "execution_count": 7,
     "metadata": {},
     "output_type": "execute_result"
    }
   ],
   "source": [
    "xs = np.random.randint(1, 100 + 1, size=20)\n",
    "print(xs)\n",
    "count_inversions(xs)"
   ]
  },
  {
   "cell_type": "code",
   "execution_count": 8,
   "metadata": {},
   "outputs": [
    {
     "name": "stdout",
     "output_type": "stream",
     "text": [
      "[71 21 37  4 30 71 33 94 76  8 97 71 92 94 67 15 48 23 37 34 32 26 53 45 74\n",
      " 89 77 66  9 51 41  6 80 10  2 48  9 80 83 19 16 92 54 90 71 16  7 49 98 76]\n"
     ]
    },
    {
     "data": {
      "text/plain": [
       "592"
      ]
     },
     "execution_count": 8,
     "metadata": {},
     "output_type": "execute_result"
    }
   ],
   "source": [
    "xs = np.random.randint(1, 100 + 1, size=50)\n",
    "print(xs)\n",
    "count_inversions(xs)"
   ]
  },
  {
   "cell_type": "code",
   "execution_count": 9,
   "metadata": {},
   "outputs": [
    {
     "data": {
      "text/plain": [
       "249922755030"
      ]
     },
     "execution_count": 9,
     "metadata": {},
     "output_type": "execute_result"
    }
   ],
   "source": [
    "count_inversions(np.random.randint(1, 1000, size=1000000), max_size=1000)"
   ]
  }
 ],
 "metadata": {
  "kernelspec": {
   "display_name": "Python 3",
   "language": "python",
   "name": "python3"
  },
  "language_info": {
   "codemirror_mode": {
    "name": "ipython",
    "version": 3
   },
   "file_extension": ".py",
   "mimetype": "text/x-python",
   "name": "python",
   "nbconvert_exporter": "python",
   "pygments_lexer": "ipython3",
   "version": "3.6.1"
  }
 },
 "nbformat": 4,
 "nbformat_minor": 2
}
