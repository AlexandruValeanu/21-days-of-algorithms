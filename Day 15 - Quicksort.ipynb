{
 "cells": [
  {
   "cell_type": "markdown",
   "metadata": {},
   "source": [
    "# Definition(s)\n",
    "\n",
    "Quicksort is an efficient sorting algorithm, serving as a systematic method for placing the elements of an array in order. \n",
    "\n",
    "Quicksort is a comparison sort, meaning that it can sort items of any type for which a \"less-than\" relation (formally, a total order) is defined. In efficient implementations it is not a stable sort, meaning that the relative order of equal sort items is not preserved. Quicksort can operate in-place on an array, requiring small additional amounts of memory to perform the sorting."
   ]
  },
  {
   "cell_type": "markdown",
   "metadata": {},
   "source": [
    "# Algorithm(s)"
   ]
  },
  {
   "cell_type": "code",
   "execution_count": 1,
   "metadata": {
    "collapsed": true
   },
   "outputs": [],
   "source": [
    "import numpy as np\n",
    "import random"
   ]
  },
  {
   "cell_type": "code",
   "execution_count": 2,
   "metadata": {},
   "outputs": [],
   "source": [
    "def functional_quicksort(a):\n",
    "    if len(a) <= 1:\n",
    "        return a\n",
    "    else:\n",
    "        pivot = a[0]\n",
    "        return functional_quicksort([x for x in a if x < pivot]) + \\\n",
    "               [x for x in a if x == pivot] + \\\n",
    "               functional_quicksort([x for x in a if x > pivot])"
   ]
  },
  {
   "cell_type": "code",
   "execution_count": 3,
   "metadata": {
    "collapsed": true
   },
   "outputs": [],
   "source": [
    "def partition(a, l, r, pivot):\n",
    "    i, j = l, r\n",
    "    \n",
    "    while True:\n",
    "        while a[i] < pivot:\n",
    "            i += 1\n",
    "            \n",
    "        while a[j] > pivot:\n",
    "            j -= 1\n",
    "            \n",
    "        if i <= j:\n",
    "            a[i], a[j] = a[j], a[i]\n",
    "            i += 1\n",
    "            j -= 1\n",
    "        \n",
    "        if i > j:\n",
    "            break\n",
    "\n",
    "    return i, j\n",
    "    \n",
    "\n",
    "# median of three\n",
    "def choose_pivot(a, l, r):\n",
    "    return (a[random.randint(l, r)] + a[random.randint(l, r)] + a[random.randint(l, r)]) // 3"
   ]
  },
  {
   "cell_type": "code",
   "execution_count": 4,
   "metadata": {
    "collapsed": true
   },
   "outputs": [],
   "source": [
    "def impl_quicksort(a, l, r):\n",
    "    if l < r:\n",
    "        pivot = choose_pivot(a, l, r)\n",
    "        i, j = partition(a, l, r, pivot)\n",
    "        impl_quicksort(a, i, r)\n",
    "        impl_quicksort(a, l, j)\n",
    "        \n",
    "def quicksort(a):\n",
    "    impl_quicksort(a, 0, len(a) - 1)\n",
    "    return list(a)"
   ]
  },
  {
   "cell_type": "markdown",
   "metadata": {},
   "source": [
    "# Run(s)"
   ]
  },
  {
   "cell_type": "code",
   "execution_count": 5,
   "metadata": {},
   "outputs": [
    {
     "name": "stdout",
     "output_type": "stream",
     "text": [
      "[1, 2, 2, 3, 3, 5, 5, 10]\n"
     ]
    }
   ],
   "source": [
    "print(functional_quicksort([5, 1, 2, 10, 3, 2, 5, 3]))"
   ]
  },
  {
   "cell_type": "code",
   "execution_count": 6,
   "metadata": {},
   "outputs": [
    {
     "name": "stdout",
     "output_type": "stream",
     "text": [
      "[1, 2, 2, 3, 3, 5, 5, 10]\n"
     ]
    }
   ],
   "source": [
    "print(quicksort([5, 1, 2, 10, 3, 2, 5, 3]))"
   ]
  },
  {
   "cell_type": "code",
   "execution_count": 7,
   "metadata": {},
   "outputs": [
    {
     "name": "stdout",
     "output_type": "stream",
     "text": [
      "[2, 3, 20, 34, 36, 36, 37, 43, 47, 47, 49, 53, 54, 57, 63, 65, 74, 76, 89, 93]\n",
      "[2, 3, 20, 34, 36, 36, 37, 43, 47, 47, 49, 53, 54, 57, 63, 65, 74, 76, 89, 93]\n"
     ]
    }
   ],
   "source": [
    "xs = np.random.randint(100, size=20)\n",
    "\n",
    "print(functional_quicksort(xs))\n",
    "print(quicksort(xs))"
   ]
  },
  {
   "cell_type": "code",
   "execution_count": 8,
   "metadata": {},
   "outputs": [
    {
     "name": "stdout",
     "output_type": "stream",
     "text": [
      "Test: 0 -> True\n",
      "Test: 1 -> True\n",
      "Test: 2 -> True\n",
      "Test: 3 -> True\n",
      "Test: 4 -> True\n",
      "Test: 5 -> True\n",
      "Test: 6 -> True\n",
      "Test: 7 -> True\n",
      "Test: 8 -> True\n",
      "Test: 9 -> True\n",
      "Test: 10 -> True\n",
      "Test: 11 -> True\n",
      "Test: 12 -> True\n",
      "Test: 13 -> True\n",
      "Test: 14 -> True\n",
      "Test: 15 -> True\n",
      "Test: 16 -> True\n",
      "Test: 17 -> True\n",
      "Test: 18 -> True\n",
      "Test: 19 -> True\n"
     ]
    }
   ],
   "source": [
    "num_tests = 20\n",
    "for t in range(num_tests):\n",
    "    xs = np.random.randint(10000, size=random.randint(50, 500))\n",
    "    ys = xs[:]\n",
    "    print(\"Test: {} -> {}\".format(t, quicksort(xs) == list(sorted(ys))))"
   ]
  }
 ],
 "metadata": {
  "kernelspec": {
   "display_name": "Python 3",
   "language": "python",
   "name": "python3"
  },
  "language_info": {
   "codemirror_mode": {
    "name": "ipython",
    "version": 3
   },
   "file_extension": ".py",
   "mimetype": "text/x-python",
   "name": "python",
   "nbconvert_exporter": "python",
   "pygments_lexer": "ipython3",
   "version": "3.6.1"
  }
 },
 "nbformat": 4,
 "nbformat_minor": 2
}
