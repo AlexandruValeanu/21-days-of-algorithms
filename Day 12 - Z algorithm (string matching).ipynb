{
 "cells": [
  {
   "cell_type": "markdown",
   "metadata": {},
   "source": [
    "# Definition(s)\n",
    "\n",
    "Z algorithm is used for computing  Zi(P) = the length of the longest substring of P that\n",
    "starts at i > 1 and matches a prefix of P."
   ]
  },
  {
   "cell_type": "markdown",
   "metadata": {},
   "source": [
    "# Algorithm(s)"
   ]
  },
  {
   "cell_type": "code",
   "execution_count": 1,
   "metadata": {
    "collapsed": true
   },
   "outputs": [],
   "source": [
    "def z_algorithm(string):\n",
    "    # z[0] = 0 (by convention)\n",
    "    # z[i] = the longest prefix of string[0:n) and string[i:n) for 1 <= i < n\n",
    "    # Complexity: O(n)\n",
    "    \n",
    "    l, r, n = 0, 0, len(string)\n",
    "    z = [0 for i in range(n)]\n",
    "\n",
    "    for i in range(1, n):\n",
    "        if i <= r:\n",
    "            z[i] = min(r - i + 1, z[i - l])\n",
    "\n",
    "        while i + z[i] < n and string[z[i]] == string[i + z[i]]:\n",
    "            z[i] += 1\n",
    "\n",
    "        if i + z[i] - 1 > r:\n",
    "            l = i\n",
    "            r = i + z[i] - 1\n",
    "\n",
    "    \n",
    "    return z"
   ]
  },
  {
   "cell_type": "code",
   "execution_count": 2,
   "metadata": {
    "collapsed": true
   },
   "outputs": [],
   "source": [
    "def string_matching(pattern, text):\n",
    "    p, t = len(pattern), len(text)\n",
    "    z = z_algorithm(pattern + '#' + text)\n",
    "\n",
    "    matches = []\n",
    "    for i in range(p + 1, p + t + 1):\n",
    "        if z[i] == p:\n",
    "            matches.append(i - p - 1)\n",
    "\n",
    "    return matches"
   ]
  },
  {
   "cell_type": "markdown",
   "metadata": {},
   "source": [
    "# Run(s)"
   ]
  },
  {
   "cell_type": "code",
   "execution_count": 3,
   "metadata": {},
   "outputs": [
    {
     "name": "stdout",
     "output_type": "stream",
     "text": [
      "[5, 7]\n"
     ]
    }
   ],
   "source": [
    "print(string_matching('ABA', 'CABBCABABAB'))"
   ]
  },
  {
   "cell_type": "code",
   "execution_count": 4,
   "metadata": {},
   "outputs": [
    {
     "name": "stdout",
     "output_type": "stream",
     "text": [
      "[0, 0, 16, 0, 14, 0, 12, 0, 10, 0, 8, 0, 6, 0, 4, 0, 2, 0, 0, 7, 0, 5, 0, 3, 0, 1]\n"
     ]
    }
   ],
   "source": [
    "print(z_algorithm('abababababababababbabababa'))"
   ]
  },
  {
   "cell_type": "code",
   "execution_count": 6,
   "metadata": {},
   "outputs": [
    {
     "name": "stdout",
     "output_type": "stream",
     "text": [
      "[0, 0, 3, 0, 1]\n"
     ]
    }
   ],
   "source": [
    "print(z_algorithm('ababa'))"
   ]
  },
  {
   "cell_type": "code",
   "execution_count": 14,
   "metadata": {},
   "outputs": [],
   "source": [
    "with open('raven.txt', 'r') as file:\n",
    "    raven = file.read()"
   ]
  },
  {
   "cell_type": "code",
   "execution_count": 15,
   "metadata": {},
   "outputs": [
    {
     "name": "stdout",
     "output_type": "stream",
     "text": [
      "[160, 371, 444, 472, 562, 584, 617, 676, 821, 1060, 1140, 1317, 1338, 1410, 1504, 1534, 1566, 1580, 1597, 1671, 1732, 1919, 1930, 2033, 2080, 2133, 2166, 2196, 2481, 2512, 2658, 2713, 2749, 3036, 3116, 3145, 3248, 3253, 3280, 3285, 3342, 3378, 3444, 3485, 3727, 3806, 3945, 4213, 4336, 4369, 4434, 4514, 4612, 4668, 4678, 4703, 4735, 4799, 4840, 4940, 4965, 4985, 5126, 5137, 5198, 5402, 5459, 5523, 5555, 5660, 5675, 5691, 5823, 5923, 5952, 6017, 6093, 6140, 6195, 6261]\n"
     ]
    }
   ],
   "source": [
    "print(string_matching('the', raven))"
   ]
  },
  {
   "cell_type": "code",
   "execution_count": 16,
   "metadata": {},
   "outputs": [
    {
     "name": "stdout",
     "output_type": "stream",
     "text": [
      "[1109, 2822, 3232, 5594]\n"
     ]
    }
   ],
   "source": [
    "print(string_matching('our', raven))"
   ]
  }
 ],
 "metadata": {
  "kernelspec": {
   "display_name": "Python 3",
   "language": "python",
   "name": "python3"
  },
  "language_info": {
   "codemirror_mode": {
    "name": "ipython",
    "version": 3
   },
   "file_extension": ".py",
   "mimetype": "text/x-python",
   "name": "python",
   "nbconvert_exporter": "python",
   "pygments_lexer": "ipython3",
   "version": "3.6.1"
  }
 },
 "nbformat": 4,
 "nbformat_minor": 2
}
