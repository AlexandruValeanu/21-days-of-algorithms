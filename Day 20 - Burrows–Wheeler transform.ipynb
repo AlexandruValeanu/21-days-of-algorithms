{
 "cells": [
  {
   "cell_type": "markdown",
   "metadata": {},
   "source": [
    "# Definition(s)\n",
    "\n",
    "The Burrows–Wheeler transform is an algorithm used to prepare data for use with data compression techniques such as bzip2. \n",
    "\n",
    "When a character string is transformed by the BWT, the transformation permutes the order of the characters. \n",
    "If the original string had several substrings that occurred often, then the transformed string will have several places where a single character is repeated multiple times in a row.\n",
    "\n",
    "~~~\n",
    "function BWT (string s)\n",
    "   create a table, rows are all possible rotations of s\n",
    "   sort rows alphabetically\n",
    "   return (last column of the table)\n",
    "~~~\n",
    "\n",
    "~~~\n",
    "function inverseBWT (string s)\n",
    "   create empty table\n",
    "   repeat length(s) times\n",
    "       // first insert creates first column\n",
    "       insert s as a column of table before first column of the table\n",
    "       sort rows of the table alphabetically\n",
    "   return (row that ends with the 'EOF' character)\n",
    "~~~"
   ]
  },
  {
   "cell_type": "markdown",
   "metadata": {},
   "source": [
    "# Algorithm(s)"
   ]
  },
  {
   "cell_type": "code",
   "execution_count": 48,
   "metadata": {
    "collapsed": true
   },
   "outputs": [],
   "source": [
    "END_CHAR = '$'\n",
    "\n",
    "def rotate(s, n):\n",
    "    return s[n:] + s[:n]"
   ]
  },
  {
   "cell_type": "code",
   "execution_count": 43,
   "metadata": {},
   "outputs": [],
   "source": [
    "def bwt(text):\n",
    "    return ''.join(s[-1] for s in sorted([rotate(text, i) for i in range(len(text))]))"
   ]
  },
  {
   "cell_type": "code",
   "execution_count": 71,
   "metadata": {},
   "outputs": [],
   "source": [
    "def ibwt(text):\n",
    "    table = [''] * len(text)\n",
    "    for _ in range(len(text)):\n",
    "        table = sorted([c + s for c, s in zip(text, table)])\n",
    "        \n",
    "    return next(filter(lambda s: s.endswith(END_CHAR), table)).strip(END_CHAR)"
   ]
  },
  {
   "cell_type": "markdown",
   "metadata": {},
   "source": [
    "# Run(s)"
   ]
  },
  {
   "cell_type": "code",
   "execution_count": 69,
   "metadata": {},
   "outputs": [
    {
     "data": {
      "text/plain": [
       "'x$lae'"
      ]
     },
     "execution_count": 69,
     "metadata": {},
     "output_type": "execute_result"
    }
   ],
   "source": [
    "bwt('alex' + END_CHAR)"
   ]
  },
  {
   "cell_type": "code",
   "execution_count": 72,
   "metadata": {},
   "outputs": [
    {
     "data": {
      "text/plain": [
       "'alex'"
      ]
     },
     "execution_count": 72,
     "metadata": {},
     "output_type": "execute_result"
    }
   ],
   "source": [
    "ibwt('x$lae')"
   ]
  },
  {
   "cell_type": "code",
   "execution_count": 75,
   "metadata": {},
   "outputs": [
    {
     "data": {
      "text/plain": [
       "'bbbabbbbbbbbab$acbbbbbbbccccaaaaaacaaaaaabaaaabaaaaabababcbba'"
      ]
     },
     "execution_count": 75,
     "metadata": {},
     "output_type": "execute_result"
    }
   ],
   "source": [
    "bwt('abababababaababababaaabababbababbabcabababbcaccacabcabcbabab' + END_CHAR)"
   ]
  },
  {
   "cell_type": "code",
   "execution_count": 76,
   "metadata": {},
   "outputs": [
    {
     "data": {
      "text/plain": [
       "'abababababaababababaaabababbababbabcabababbcaccacabcabcbabab'"
      ]
     },
     "execution_count": 76,
     "metadata": {},
     "output_type": "execute_result"
    }
   ],
   "source": [
    "ibwt('bbbabbbbbbbbab$acbbbbbbbccccaaaaaacaaaaaabaaaabaaaaabababcbba')"
   ]
  }
 ],
 "metadata": {
  "kernelspec": {
   "display_name": "Python 3",
   "language": "python",
   "name": "python3"
  },
  "language_info": {
   "codemirror_mode": {
    "name": "ipython",
    "version": 3
   },
   "file_extension": ".py",
   "mimetype": "text/x-python",
   "name": "python",
   "nbconvert_exporter": "python",
   "pygments_lexer": "ipython3",
   "version": "3.6.1"
  }
 },
 "nbformat": 4,
 "nbformat_minor": 2
}
