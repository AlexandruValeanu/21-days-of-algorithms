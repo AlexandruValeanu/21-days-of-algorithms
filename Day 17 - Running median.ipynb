{
 "cells": [
  {
   "cell_type": "markdown",
   "metadata": {},
   "source": [
    "# Definition(s)\n",
    "\n",
    "We will use a max heap for storing data of the smaller half of the numbers and a min heap for storing data of the larger half of the numbers. "
   ]
  },
  {
   "cell_type": "markdown",
   "metadata": {},
   "source": [
    "# Algorithm(s)"
   ]
  },
  {
   "cell_type": "code",
   "execution_count": 1,
   "metadata": {
    "collapsed": true
   },
   "outputs": [],
   "source": [
    "from heapq import heappop, heappush, heappushpop"
   ]
  },
  {
   "cell_type": "code",
   "execution_count": 2,
   "metadata": {
    "collapsed": true
   },
   "outputs": [],
   "source": [
    "def running_median(xs):\n",
    "    low, high = [], []\n",
    "    \n",
    "    for x in xs:\n",
    "        if not high:\n",
    "            heappush(high, x)\n",
    "        else:\n",
    "            if len(high) > len(low):\n",
    "                if x > high[0]:\n",
    "                    heappush(low, -heappushpop(high, x))\n",
    "                else:\n",
    "                    heappush(low, -x)\n",
    "            else:\n",
    "                if x < -low[0]:\n",
    "                    heappush(high, -heappushpop(low, -x))\n",
    "                else:\n",
    "                    heappush(high, x)\n",
    "                    \n",
    "        if len(high) > len(low):\n",
    "            print(high[0])\n",
    "        else:\n",
    "            print((-low[0] + high[0]) / 2)"
   ]
  },
  {
   "cell_type": "markdown",
   "metadata": {},
   "source": [
    "# Run(s)"
   ]
  },
  {
   "cell_type": "code",
   "execution_count": 3,
   "metadata": {},
   "outputs": [
    {
     "name": "stdout",
     "output_type": "stream",
     "text": [
      "12\n",
      "8.0\n",
      "5\n",
      "4.5\n",
      "5\n",
      "6.0\n"
     ]
    }
   ],
   "source": [
    "running_median([12, 4, 5, 3, 8, 7])"
   ]
  },
  {
   "cell_type": "code",
   "execution_count": 4,
   "metadata": {},
   "outputs": [
    {
     "name": "stdout",
     "output_type": "stream",
     "text": [
      "0\n",
      "0.5\n",
      "1\n",
      "1.5\n",
      "2\n",
      "2.5\n",
      "3\n",
      "3.5\n",
      "4\n",
      "4.5\n"
     ]
    }
   ],
   "source": [
    "running_median(range(10))"
   ]
  },
  {
   "cell_type": "code",
   "execution_count": 5,
   "metadata": {},
   "outputs": [
    {
     "name": "stdout",
     "output_type": "stream",
     "text": [
      "4\n",
      "3.5\n",
      "3\n",
      "2.5\n",
      "2\n"
     ]
    }
   ],
   "source": [
    "running_median(reversed(range(5)))"
   ]
  },
  {
   "cell_type": "code",
   "execution_count": 6,
   "metadata": {},
   "outputs": [
    {
     "name": "stdout",
     "output_type": "stream",
     "text": [
      "12\n",
      "9.0\n",
      "6\n",
      "9.0\n",
      "8\n",
      "10.0\n"
     ]
    }
   ],
   "source": [
    "running_median([12, 6, 1, 30, 8, 72])"
   ]
  }
 ],
 "metadata": {
  "kernelspec": {
   "display_name": "Python 3",
   "language": "python",
   "name": "python3"
  },
  "language_info": {
   "codemirror_mode": {
    "name": "ipython",
    "version": 3
   },
   "file_extension": ".py",
   "mimetype": "text/x-python",
   "name": "python",
   "nbconvert_exporter": "python",
   "pygments_lexer": "ipython3",
   "version": "3.6.1"
  }
 },
 "nbformat": 4,
 "nbformat_minor": 2
}
